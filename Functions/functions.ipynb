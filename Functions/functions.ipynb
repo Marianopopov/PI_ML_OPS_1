{
 "cells": [
  {
   "cell_type": "code",
   "execution_count": 1,
   "metadata": {},
   "outputs": [],
   "source": [
    "import pandas as pd\n",
    "import numpy as np\n",
    "import ast\n",
    "import gzip\n",
    "import json\n",
    "import matplotlib.pyplot as plt\n",
    "import seaborn as sns\n",
    "import nltk\n",
    "from nltk.sentiment.vader import SentimentIntensityAnalyzer\n",
    "import re"
   ]
  },
  {
   "cell_type": "code",
   "execution_count": 8,
   "metadata": {},
   "outputs": [],
   "source": [
    "user_item = pd.read_csv('../Datasets/user_items_cleaned.csv.gz')\n",
    "steam_games = pd.read_csv ('../Datasets/steam_games_cleaned.csv')\n",
    "user_reviews = pd.read_csv ('../Datasets/user_review_cleaned.csv')"
   ]
  },
  {
   "cell_type": "markdown",
   "metadata": {},
   "source": [
    "def PlayTimeGenre( genero : str ): Debe devolver año con mas horas jugadas para dicho género.\n",
    "Ejemplo de retorno: {\"Año de lanzamiento con más horas jugadas para Género X\" : 2013}"
   ]
  },
  {
   "cell_type": "code",
   "execution_count": 10,
   "metadata": {},
   "outputs": [],
   "source": [
    "def PlayTimeGenre(genero: str):\n",
    "    # Merge entre user_items y steam_games\n",
    "    merged_df = pd.merge(user_item, steam_games, left_on='item_name', right_on='app_name', how='inner')\n",
    "\n",
    "    # Filtrar por el género específico\n",
    "    genre_df = merged_df[merged_df['genres'].apply(lambda x: genero in x)]\n",
    "\n",
    "    # Agrupar por año y sumar las horas jugadas\n",
    "    grouped_df = genre_df.groupby('year')['playtime_forever'].sum()\n",
    "\n",
    "    # Encontrar el año con más horas jugadas\n",
    "    max_playtime_year = grouped_df.idxmax()\n",
    "\n",
    "    # Retornar el resultado\n",
    "    result = {\"Año de lanzamiento con más horas jugadas para Género X\": max_playtime_year}\n",
    "    return result\n"
   ]
  },
  {
   "cell_type": "code",
   "execution_count": 11,
   "metadata": {},
   "outputs": [
    {
     "data": {
      "text/plain": [
       "{'Año de lanzamiento con más horas jugadas para Género X': 2012}"
      ]
     },
     "execution_count": 11,
     "metadata": {},
     "output_type": "execute_result"
    }
   ],
   "source": [
    "genre_result = PlayTimeGenre(\"Action\")\n",
    "genre_result"
   ]
  },
  {
   "cell_type": "markdown",
   "metadata": {},
   "source": [
    "def UserForGenre( genero : str ): Debe devolver el usuario que acumula más horas jugadas para el género dado y una lista de la acumulación de horas jugadas por año.\n",
    "Ejemplo de retorno: {\"Usuario con más horas jugadas para Género X\" : us213ndjss09sdf, \"Horas jugadas\":[{Año: 2013, Horas: 203}, {Año: 2012, Horas: 100}, {Año: 2011, Horas: 23}]}\n",
    "\n"
   ]
  },
  {
   "cell_type": "code",
   "execution_count": 168,
   "metadata": {},
   "outputs": [],
   "source": [
    "merged_df = pd.merge(user_item, steam_games, left_on='item_id', right_on='id')"
   ]
  },
  {
   "cell_type": "code",
   "execution_count": 13,
   "metadata": {},
   "outputs": [
    {
     "data": {
      "text/plain": [
       "{'Uruario con mas horas jugadas por genero': 'REBAS_AS_F-T',\n",
       " 'Horas Jugadas': [{'Año': 1996, 'Horas jugadas': 0.0},\n",
       "  {'Año': 1998, 'Horas jugadas': 1.0},\n",
       "  {'Año': 1999, 'Horas jugadas': 225.0},\n",
       "  {'Año': 2000, 'Horas jugadas': 0.0},\n",
       "  {'Año': 2001, 'Horas jugadas': 11.0},\n",
       "  {'Año': 2002, 'Horas jugadas': 2.0},\n",
       "  {'Año': 2003, 'Horas jugadas': 1863.0},\n",
       "  {'Año': 2004, 'Horas jugadas': 9102.0},\n",
       "  {'Año': 2005, 'Horas jugadas': 3294.0},\n",
       "  {'Año': 2006, 'Horas jugadas': 1811.0},\n",
       "  {'Año': 2007, 'Horas jugadas': 1972.0},\n",
       "  {'Año': 2008, 'Horas jugadas': 3814.0},\n",
       "  {'Año': 2009, 'Horas jugadas': 34359.0},\n",
       "  {'Año': 2010, 'Horas jugadas': 55012.0},\n",
       "  {'Año': 2011, 'Horas jugadas': 151401.0},\n",
       "  {'Año': 2012, 'Horas jugadas': 182758.0},\n",
       "  {'Año': 2013, 'Horas jugadas': 330971.0},\n",
       "  {'Año': 2014, 'Horas jugadas': 383089.0},\n",
       "  {'Año': 2015, 'Horas jugadas': 965353.0},\n",
       "  {'Año': 2016, 'Horas jugadas': 1169773.0},\n",
       "  {'Año': 2017, 'Horas jugadas': 42390.0}]}"
      ]
     },
     "execution_count": 13,
     "metadata": {},
     "output_type": "execute_result"
    }
   ],
   "source": [
    "def UserForGenre(genero):\n",
    "    merge = merged_df\n",
    "    \n",
    "    usuario_agrupado = merge[['user_id','playtime_forever','year']].groupby(['user_id','year']).sum()\n",
    "    usuario_agrupado_1 = usuario_agrupado['playtime_forever'].idxmax()\n",
    "    \n",
    "    genero = merge[merge['genres'].apply(lambda x: genero in x)]\n",
    "    \n",
    "    df_usuario_genero = merged_df[(merged_df['user_id'] == usuario_agrupado_1 [0])]\n",
    "    poranio = df_usuario_genero.groupby('year')[['playtime_forever']].sum().reset_index().rename(columns={'year':'Año', 'playtime_forever': 'Horas jugadas'}).to_dict(orient='records')\n",
    "    \n",
    "    # Crear un diccionario con la información\n",
    "    dicc = {\n",
    "        'Uruario con mas horas jugadas por genero': usuario_agrupado_1 [0],\n",
    "        'Horas Jugadas': poranio\n",
    "    }\n",
    "\n",
    "    return dicc\n",
    "UserForGenre('Action')"
   ]
  },
  {
   "cell_type": "code",
   "execution_count": 204,
   "metadata": {},
   "outputs": [
    {
     "data": {
      "text/plain": [
       "{'Uruario con mas horas jugadas por genero': 'REBAS_AS_F-T',\n",
       " 'Horas Jugadas': [{'Año': 1996, 'Horas jugadas': 0.0},\n",
       "  {'Año': 1998, 'Horas jugadas': 0.0166666666666666},\n",
       "  {'Año': 1999, 'Horas jugadas': 3.7499999999999996},\n",
       "  {'Año': 2000, 'Horas jugadas': 0.0},\n",
       "  {'Año': 2001, 'Horas jugadas': 0.1833333333333333},\n",
       "  {'Año': 2002, 'Horas jugadas': 0.0166666666666666},\n",
       "  {'Año': 2003, 'Horas jugadas': 31.05},\n",
       "  {'Año': 2004, 'Horas jugadas': 151.70000000000002},\n",
       "  {'Año': 2005, 'Horas jugadas': 54.88333333333333},\n",
       "  {'Año': 2006, 'Horas jugadas': 30.78333333333333},\n",
       "  {'Año': 2007, 'Horas jugadas': 173.76666666666665},\n",
       "  {'Año': 2008, 'Horas jugadas': 83.88333333333333},\n",
       "  {'Año': 2009, 'Horas jugadas': 1028.7},\n",
       "  {'Año': 2010, 'Horas jugadas': 1215.9666666666667},\n",
       "  {'Año': 2011, 'Horas jugadas': 3101.3666666666663},\n",
       "  {'Año': 2012, 'Horas jugadas': 4459.333333333333},\n",
       "  {'Año': 2013, 'Horas jugadas': 6723.35},\n",
       "  {'Año': 2014, 'Horas jugadas': 7967.266666666666},\n",
       "  {'Año': 2015, 'Horas jugadas': 18231.45},\n",
       "  {'Año': 2016, 'Horas jugadas': 21956.533333333333},\n",
       "  {'Año': 2017, 'Horas jugadas': 584.45}]}"
      ]
     },
     "execution_count": 204,
     "metadata": {},
     "output_type": "execute_result"
    }
   ],
   "source": [
    "UserForGenre('Action')"
   ]
  },
  {
   "cell_type": "markdown",
   "metadata": {},
   "source": [
    "def UsersRecommend( año : int ): Devuelve el top 3 de juegos MÁS recomendados por usuarios para el año dado. (reviews.recommend = True y comentarios positivos/neutrales)\n",
    "Ejemplo de retorno: [{\"Puesto 1\" : X}, {\"Puesto 2\" : Y},{\"Puesto 3\" : Z}]\n",
    "\n"
   ]
  },
  {
   "cell_type": "code",
   "execution_count": 14,
   "metadata": {},
   "outputs": [],
   "source": [
    "def UsersRecommend(año: int):\n",
    "    # 1. Realizar un pd.merge entre steam_games y user_review\n",
    "    merged_df = pd.merge(steam_games, user_reviews, left_on='id', right_on='item_id', how='inner')\n",
    "   \n",
    "    # 2. Filtrar para incluir solo recomendaciones positivas/neutrales\n",
    "    filtered_df = merged_df[(merged_df['recommend'] == 1) & (merged_df['sentiment_analysis'].isin([1, 2])) & (merged_df['year'] == año)]\n",
    "\n",
    "    # 3. Agrupar por el nombre del juego, contar la cantidad de recomendaciones y ordenar en orden descendente\n",
    "    game_recommendations = filtered_df.groupby('app_name')['recommend'].count().sort_values(ascending=False)\n",
    "\n",
    "    # 4. Seleccionar los tres juegos principales\n",
    "    top_3_games = game_recommendations.head(3).index.tolist()\n",
    "\n",
    "    # Crear el formato de retorno\n",
    "    result = [{\"Puesto {}: {}\".format(i + 1, juego)} for i, juego in enumerate(top_3_games)]\n",
    "    \n",
    "    return result\n"
   ]
  },
  {
   "cell_type": "code",
   "execution_count": 31,
   "metadata": {},
   "outputs": [
    {
     "data": {
      "text/plain": [
       "list"
      ]
     },
     "execution_count": 31,
     "metadata": {},
     "output_type": "execute_result"
    }
   ],
   "source": [
    "def UsersRecommend(year: int):\n",
    "    try:   \n",
    "        function3 = pd.read_csv('../Datasets/function3.csv')\n",
    "    \n",
    "        # 2. Filtrar para incluir solo recomendaciones positivas/neutrales\n",
    "        filtered_df = function3[(function3['recommend'] == 1) & (function3['sentiment_analysis'].isin([1, 2])) & (function3['year'] == año)]\n",
    "\n",
    "        # 3. Agrupar por el nombre del juego, contar la cantidad de recomendaciones y ordenar en orden descendente\n",
    "        game_recommendations = filtered_df.groupby('app_name')['recommend'].count().sort_values(ascending=False)\n",
    "\n",
    "        # 4. Seleccionar los tres juegos principales\n",
    "        top_3_games = game_recommendations.head(3).index.tolist()\n",
    "\n",
    "        # Crear el formato de retorno\n",
    "        result = [{\"Puesto {}: {}\".format(i + 1, juego)} for i, juego in enumerate(top_3_games)]\n",
    "        \n",
    "        return result\n",
    "\n",
    "    except Exception as e:\n",
    "        return {\"Error\": str(e)}\n",
    "    \n",
    "type(UsersRecommend(2014))"
   ]
  },
  {
   "cell_type": "code",
   "execution_count": 15,
   "metadata": {},
   "outputs": [
    {
     "name": "stdout",
     "output_type": "stream",
     "text": [
      "[{'Puesto 1: Loadout'}, {'Puesto 2: Goat Simulator'}, {'Puesto 3: Insurgency'}]\n"
     ]
    }
   ],
   "source": [
    "# Ejemplo de uso\n",
    "recommendations_result = UsersRecommend(2014)\n",
    "print(recommendations_result)"
   ]
  },
  {
   "cell_type": "markdown",
   "metadata": {},
   "source": [
    "def UsersNotRecommend( año : int ): Devuelve el top 3 de juegos MENOS recomendados por usuarios para el año dado. (reviews.recommend = False y comentarios negativos)\n",
    "Ejemplo de retorno: [{\"Puesto 1\" : X}, {\"Puesto 2\" : Y},{\"Puesto 3\" : Z}]\n",
    "\n"
   ]
  },
  {
   "cell_type": "code",
   "execution_count": 35,
   "metadata": {},
   "outputs": [
    {
     "name": "stdout",
     "output_type": "stream",
     "text": [
      "[{'Puesto 1: Call of Duty®: Ghosts'}, {'Puesto 2: Loadout'}, {'Puesto 3: theHunter Classic'}]\n"
     ]
    }
   ],
   "source": [
    "def UsersNotRecommend(año: int):\n",
    "    # 1. Realizar un pd.merge entre steam_games y user_review\n",
    "    merged_df = pd.merge(steam_games, user_reviews, left_on='id', right_on='item_id', how='inner')\n",
    "   \n",
    "    # 2. Filtrar para incluir solo no recomendaciones y comentarios negativos para el año dado\n",
    "    filtered_df = merged_df[(merged_df['recommend'] == 0) & (merged_df['sentiment_analysis'] == 0) & (merged_df['year'] == año)]\n",
    "\n",
    "    # 3. Agrupar por el nombre del juego, contar la cantidad de no recomendaciones y ordenar en orden descendente\n",
    "    game_not_recommendations = filtered_df.groupby('app_name')['recommend'].count().sort_values(ascending=False)\n",
    "\n",
    "    # 4. Seleccionar los tres juegos principales, manejar empates\n",
    "    top_3_not_recommendations = game_not_recommendations.head(3).index.tolist()\n",
    "\n",
    "    # Crear el formato de retorno\n",
    "    result = [{\"Puesto {}: {}\".format(i + 1, juego)} for i, juego in enumerate(top_3_not_recommendations)]\n",
    "    \n",
    "    return result\n",
    "\n",
    "# Ejemplo de uso\n",
    "not_recommendations_result = UsersNotRecommend(2014)\n",
    "print(not_recommendations_result)\n"
   ]
  },
  {
   "cell_type": "markdown",
   "metadata": {},
   "source": [
    "def sentiment_analysis( año : int ): Según el año de lanzamiento, se devuelve una lista con la cantidad de registros de reseñas de usuarios que se encuentren categorizados con un análisis de sentimiento.\n",
    "Ejemplo de retorno: {Negative = 182, Neutral = 120, Positive = 278}"
   ]
  },
  {
   "cell_type": "code",
   "execution_count": 38,
   "metadata": {},
   "outputs": [
    {
     "name": "stdout",
     "output_type": "stream",
     "text": [
      "{'Negative': 216, 'Neutral': 717, 'Positive': 852}\n"
     ]
    }
   ],
   "source": [
    "def sentiment_analysis(año: int):\n",
    "    # 1. Realizar un pd.merge entre steam_games y user_review\n",
    "    merged_df = pd.merge(steam_games, user_reviews, left_on='id', right_on='item_id', how='inner')\n",
    "   \n",
    "    # 2. Filtrar para incluir solo las reseñas para el año dado\n",
    "    filtered_df = merged_df[merged_df['year'] == año]\n",
    "\n",
    "    # 3. Contar la cantidad de registros según el análisis de sentimiento\n",
    "    sentiment_counts = filtered_df['sentiment_analysis'].value_counts()\n",
    "\n",
    "    # 4. Crear el formato de retorno\n",
    "    result = {\n",
    "        'Negative': sentiment_counts.get(0, 0),\n",
    "        'Neutral': sentiment_counts.get(1, 0),\n",
    "        'Positive': sentiment_counts.get(2, 0)\n",
    "    }\n",
    "    \n",
    "    return result\n",
    "\n",
    "# Ejemplo de uso\n",
    "sentiment_result = sentiment_analysis(2010)\n",
    "print(sentiment_result)\n"
   ]
  },
  {
   "cell_type": "markdown",
   "metadata": {},
   "source": [
    "Si es un sistema de recomendación item-item:\n",
    "\n",
    "def recomendacion_juego( id de producto ): Ingresando el id de producto, deberíamos recibir una lista con 5 juegos recomendados similares al ingresado.\n"
   ]
  },
  {
   "cell_type": "code",
   "execution_count": null,
   "metadata": {},
   "outputs": [],
   "source": []
  },
  {
   "cell_type": "markdown",
   "metadata": {},
   "source": [
    "Si es un sistema de recomendación user-item:\n",
    "\n",
    "def recomendacion_usuario( id de usuario ): Ingresando el id de un usuario, deberíamos recibir una lista con 5 juegos recomendados para dicho usuario."
   ]
  }
 ],
 "metadata": {
  "kernelspec": {
   "display_name": "Python 3",
   "language": "python",
   "name": "python3"
  },
  "language_info": {
   "codemirror_mode": {
    "name": "ipython",
    "version": 3
   },
   "file_extension": ".py",
   "mimetype": "text/x-python",
   "name": "python",
   "nbconvert_exporter": "python",
   "pygments_lexer": "ipython3",
   "version": "3.11.5"
  }
 },
 "nbformat": 4,
 "nbformat_minor": 2
}
