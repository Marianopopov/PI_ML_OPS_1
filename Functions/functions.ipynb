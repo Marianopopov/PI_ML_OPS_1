{
 "cells": [
  {
   "cell_type": "code",
   "execution_count": 1,
   "metadata": {},
   "outputs": [],
   "source": [
    "import pandas as pd\n",
    "import numpy as np\n",
    "import ast\n",
    "import gzip\n",
    "import json\n",
    "import matplotlib.pyplot as plt\n",
    "import seaborn as sns\n",
    "import nltk\n",
    "from nltk.sentiment.vader import SentimentIntensityAnalyzer\n",
    "import re"
   ]
  },
  {
   "cell_type": "code",
   "execution_count": 8,
   "metadata": {},
   "outputs": [],
   "source": [
    "user_item = pd.read_csv('../Datasets/user_items_cleaned.csv.gz')\n",
    "steam_games = pd.read_csv ('../Datasets/steam_games_cleaned.csv.gz')\n",
    "user_reviews = pd.read_csv ('../Datasets/user_review_cleaned.csv.gz')"
   ]
  },
  {
   "cell_type": "markdown",
   "metadata": {},
   "source": [
    "def PlayTimeGenre( genero : str ): Debe devolver año con mas horas jugadas para dicho género.\n",
    "Ejemplo de retorno: {\"Año de lanzamiento con más horas jugadas para Género X\" : 2013}"
   ]
  },
  {
   "cell_type": "code",
   "execution_count": 54,
   "metadata": {},
   "outputs": [],
   "source": [
    "def PlayTimeGenre(genero: str):\n",
    "    merged_df = pd.merge(user_item, steam_games, left_on='item_name', right_on='app_name', how='inner')\n",
    "    genre_df = merged_df[merged_df['genres'].apply(lambda x: genero in x)]\n",
    "    grouped_df = genre_df.groupby('year')['playtime_forever'].sum()\n",
    "    max_playtime_year = grouped_df.idxmax()\n",
    "    result = {\"Año de lanzamiento con más horas jugadas para Género X\": max_playtime_year}\n",
    "    return result\n"
   ]
  },
  {
   "cell_type": "code",
   "execution_count": 56,
   "metadata": {},
   "outputs": [
    {
     "data": {
      "text/plain": [
       "{'Año de lanzamiento con más horas jugadas para Género X': 2012}"
      ]
     },
     "execution_count": 56,
     "metadata": {},
     "output_type": "execute_result"
    }
   ],
   "source": [
    "genre_result = PlayTimeGenre(\"FPS\")\n",
    "genre_result"
   ]
  },
  {
   "cell_type": "markdown",
   "metadata": {},
   "source": [
    "def UserForGenre( genero : str ): Debe devolver el usuario que acumula más horas jugadas para el género dado y una lista de la acumulación de horas jugadas por año.\n",
    "Ejemplo de retorno: {\"Usuario con más horas jugadas para Género X\" : us213ndjss09sdf, \"Horas jugadas\":[{Año: 2013, Horas: 203}, {Año: 2012, Horas: 100}, {Año: 2011, Horas: 23}]}\n",
    "\n"
   ]
  },
  {
   "cell_type": "code",
   "execution_count": 11,
   "metadata": {},
   "outputs": [],
   "source": [
    "merged_df = pd.merge(user_item, steam_games, left_on='item_id', right_on='id')"
   ]
  },
  {
   "cell_type": "code",
   "execution_count": 12,
   "metadata": {},
   "outputs": [
    {
     "data": {
      "text/plain": [
       "{'Uruario con mas horas jugadas por genero': 'REBAS_AS_F-T',\n",
       " 'Horas Jugadas': [{'Año': 1996, 'Horas jugadas': 0.0},\n",
       "  {'Año': 1998, 'Horas jugadas': 1.0},\n",
       "  {'Año': 1999, 'Horas jugadas': 225.0},\n",
       "  {'Año': 2000, 'Horas jugadas': 0.0},\n",
       "  {'Año': 2001, 'Horas jugadas': 11.0},\n",
       "  {'Año': 2002, 'Horas jugadas': 1.0},\n",
       "  {'Año': 2003, 'Horas jugadas': 1863.0},\n",
       "  {'Año': 2004, 'Horas jugadas': 9102.0},\n",
       "  {'Año': 2005, 'Horas jugadas': 3293.0},\n",
       "  {'Año': 2006, 'Horas jugadas': 1847.0},\n",
       "  {'Año': 2007, 'Horas jugadas': 10426.0},\n",
       "  {'Año': 2008, 'Horas jugadas': 5033.0},\n",
       "  {'Año': 2009, 'Horas jugadas': 61722.0},\n",
       "  {'Año': 2010, 'Horas jugadas': 72958.0},\n",
       "  {'Año': 2011, 'Horas jugadas': 186082.0},\n",
       "  {'Año': 2012, 'Horas jugadas': 267560.0},\n",
       "  {'Año': 2013, 'Horas jugadas': 403401.0},\n",
       "  {'Año': 2014, 'Horas jugadas': 478036.0},\n",
       "  {'Año': 2015, 'Horas jugadas': 1093887.0},\n",
       "  {'Año': 2016, 'Horas jugadas': 1317392.0},\n",
       "  {'Año': 2017, 'Horas jugadas': 35067.0}]}"
      ]
     },
     "execution_count": 12,
     "metadata": {},
     "output_type": "execute_result"
    }
   ],
   "source": [
    "def UserForGenre(genero):\n",
    "    merge = merged_df\n",
    "    \n",
    "    usuario_agrupado = merge[['user_id','playtime_forever','year']].groupby(['user_id','year']).sum()\n",
    "    usuario_agrupado_1 = usuario_agrupado['playtime_forever'].idxmax()\n",
    "    genero = merge[merge['genres'].apply(lambda x: genero in x)]\n",
    "    df_usuario_genero = merged_df[(merged_df['user_id'] == usuario_agrupado_1 [0])]\n",
    "    poranio = df_usuario_genero.groupby('year')[['playtime_forever']].sum().reset_index().rename(columns={'year':'Año', 'playtime_forever': 'Horas jugadas'}).to_dict(orient='records')\n",
    "    \n",
    "    dicc = {\n",
    "        'Uruario con mas horas jugadas por genero': usuario_agrupado_1 [0],\n",
    "        'Horas Jugadas': poranio\n",
    "    }\n",
    "\n",
    "    return dicc\n",
    "UserForGenre('Action')"
   ]
  },
  {
   "cell_type": "markdown",
   "metadata": {},
   "source": [
    "def UsersRecommend( año : int ): Devuelve el top 3 de juegos MÁS recomendados por usuarios para el año dado. (reviews.recommend = True y comentarios positivos/neutrales)\n",
    "Ejemplo de retorno: [{\"Puesto 1\" : X}, {\"Puesto 2\" : Y},{\"Puesto 3\" : Z}]\n",
    "\n"
   ]
  },
  {
   "cell_type": "code",
   "execution_count": 52,
   "metadata": {},
   "outputs": [],
   "source": [
    "import pandas as pd\n",
    "\n",
    "def UsersRecommend(year: int):\n",
    "    try:\n",
    "        # Cargar el DataFrame desde el archivo CSV\n",
    "        function3 = pd.read_csv('../Datasets/function3.csv')\n",
    "\n",
    "        # Filtrar el DataFrame según las condiciones dadas\n",
    "        filtered_df = function3[(function3['recommend'] == 1) & (function3['sentiment_analysis'].isin([1, 2])) & (function3['year'] == year)]\n",
    "\n",
    "        # Agrupar por nombre de la aplicación y contar las recomendaciones\n",
    "        game_recommendations = filtered_df.groupby('app_name')['recommend'].count().sort_values(ascending=False)\n",
    "\n",
    "        # Obtener el top 3 de juegos recomendados como un diccionario\n",
    "        top_3_games = game_recommendations.head(3).to_dict()\n",
    "\n",
    "        # Crear el resultado con el formato deseado\n",
    "        result = {\"year\": year, \"top_3_games\": [{\"puesto {}\".format(i + 1): {game}} for i, (game, _) in enumerate(top_3_games.items())]}\n",
    "\n",
    "        return result\n",
    "\n",
    "    except Exception as e:\n",
    "        return {\"Error\": str(e)}\n",
    "\n",
    "\n"
   ]
  },
  {
   "cell_type": "code",
   "execution_count": 53,
   "metadata": {},
   "outputs": [
    {
     "data": {
      "text/plain": [
       "{'year': 2012,\n",
       " 'top_3_games': [{'puesto 1': {'Counter-Strike: Global Offensive'}},\n",
       "  {'puesto 2': {'Borderlands 2'}},\n",
       "  {'puesto 3': {'PlanetSide 2'}}]}"
      ]
     },
     "execution_count": 53,
     "metadata": {},
     "output_type": "execute_result"
    }
   ],
   "source": [
    "# Ejemplo de uso\n",
    "UsersRecommend(2012)"
   ]
  },
  {
   "cell_type": "markdown",
   "metadata": {},
   "source": [
    "def UsersNotRecommend( año : int ): Devuelve el top 3 de juegos MENOS recomendados por usuarios para el año dado. (reviews.recommend = False y comentarios negativos)\n",
    "Ejemplo de retorno: [{\"Puesto 1\" : X}, {\"Puesto 2\" : Y},{\"Puesto 3\" : Z}]\n",
    "\n"
   ]
  },
  {
   "cell_type": "code",
   "execution_count": 50,
   "metadata": {},
   "outputs": [],
   "source": [
    "def UsersNotRecommend(year: int):\n",
    "    try:\n",
    "        # Cargar el DataFrame desde el archivo CSV\n",
    "        function3 = pd.read_csv('../Datasets/function3.csv')\n",
    "\n",
    "        # Filtrar el DataFrame según las condiciones dadas\n",
    "        filtered_df = function3[(function3['recommend'] == 0) & (function3['sentiment_analysis'].isin([0, -1])) & (function3['year'] == year)]\n",
    "\n",
    "        # Agrupar por nombre de la aplicación y contar las no recomendaciones\n",
    "        game_not_recommendations = filtered_df.groupby('app_name')['recommend'].count().sort_values(ascending=False)\n",
    "\n",
    "        # Obtener el top 3 de juegos menos recomendados como un diccionario\n",
    "        top_3_not_recommended = game_not_recommendations.head(3).to_dict()\n",
    "\n",
    "        # Crear el resultado con el formato deseado\n",
    "        result = {\"year\": year, \"top_3_not_recommended\": [{\"puesto {}\".format(i + 1): {game}} for i, (game, _) in enumerate(top_3_not_recommended.items())]}\n",
    "\n",
    "        return result\n",
    "\n",
    "    except Exception as e:\n",
    "        return {\"Error\": str(e)}\n",
    "\n",
    "\n"
   ]
  },
  {
   "cell_type": "code",
   "execution_count": 51,
   "metadata": {},
   "outputs": [
    {
     "data": {
      "text/plain": [
       "{'year': 2012,\n",
       " 'top_3_not_recommended': [{'puesto 1': {'Counter-Strike: Global Offensive'}},\n",
       "  {'puesto 2': {'Realm of the Mad God'}},\n",
       "  {'puesto 3': {'Chivalry: Medieval Warfare'}}]}"
      ]
     },
     "execution_count": 51,
     "metadata": {},
     "output_type": "execute_result"
    }
   ],
   "source": [
    "UsersNotRecommend(2012)"
   ]
  },
  {
   "cell_type": "markdown",
   "metadata": {},
   "source": [
    "def sentiment_analysis( año : int ): Según el año de lanzamiento, se devuelve una lista con la cantidad de registros de reseñas de usuarios que se encuentren categorizados con un análisis de sentimiento.\n",
    "Ejemplo de retorno: {Negative = 182, Neutral = 120, Positive = 278}"
   ]
  },
  {
   "cell_type": "code",
   "execution_count": 48,
   "metadata": {},
   "outputs": [],
   "source": [
    "def sentiment_analysis(year: int):\n",
    "    try:\n",
    "        function3 = pd.read_csv('../Datasets/function3.csv.gz', compression='gzip')\n",
    "        filtered_df = function3[function3['year'] == year]\n",
    "        sentiment_counts = filtered_df.groupby('sentiment_analysis').size().reset_index(name='count')\n",
    "        result = {\n",
    "            'Negative': int(sentiment_counts.loc[sentiment_counts['sentiment_analysis'] == 0, 'count'].values[0]) if 0 in sentiment_counts['sentiment_analysis'].values else 0,\n",
    "            'Neutral': int(sentiment_counts.loc[sentiment_counts['sentiment_analysis'] == 1, 'count'].values[0]) if 1 in sentiment_counts['sentiment_analysis'].values else 0,\n",
    "            'Positive': int(sentiment_counts.loc[sentiment_counts['sentiment_analysis'] == 2, 'count'].values[0]) if 2 in sentiment_counts['sentiment_analysis'].values else 0\n",
    "        }\n",
    "\n",
    "        return result\n",
    "\n",
    "    except Exception as e:\n",
    "        return {\"Error\": str(e)}\n"
   ]
  },
  {
   "cell_type": "code",
   "execution_count": 49,
   "metadata": {},
   "outputs": [
    {
     "data": {
      "text/plain": [
       "{'Negative': 216, 'Neutral': 717, 'Positive': 852}"
      ]
     },
     "execution_count": 49,
     "metadata": {},
     "output_type": "execute_result"
    }
   ],
   "source": [
    "sentiment_analysis(2010)"
   ]
  },
  {
   "cell_type": "markdown",
   "metadata": {},
   "source": [
    "Si es un sistema de recomendación item-item:\n",
    "\n",
    "def recomendacion_juego( id de producto ): Ingresando el id de producto, deberíamos recibir una lista con 5 juegos recomendados similares al ingresado.\n"
   ]
  },
  {
   "cell_type": "code",
   "execution_count": null,
   "metadata": {},
   "outputs": [],
   "source": []
  },
  {
   "cell_type": "markdown",
   "metadata": {},
   "source": [
    "Si es un sistema de recomendación user-item:\n",
    "\n",
    "def recomendacion_usuario( id de usuario ): Ingresando el id de un usuario, deberíamos recibir una lista con 5 juegos recomendados para dicho usuario."
   ]
  },
  {
   "cell_type": "markdown",
   "metadata": {},
   "source": []
  }
 ],
 "metadata": {
  "kernelspec": {
   "display_name": "Python 3",
   "language": "python",
   "name": "python3"
  },
  "language_info": {
   "codemirror_mode": {
    "name": "ipython",
    "version": 3
   },
   "file_extension": ".py",
   "mimetype": "text/x-python",
   "name": "python",
   "nbconvert_exporter": "python",
   "pygments_lexer": "ipython3",
   "version": "3.11.5"
  }
 },
 "nbformat": 4,
 "nbformat_minor": 2
}
