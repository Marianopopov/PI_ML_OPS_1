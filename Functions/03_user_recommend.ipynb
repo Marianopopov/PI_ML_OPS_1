{
 "cells": [
  {
   "cell_type": "code",
   "execution_count": 2,
   "metadata": {},
   "outputs": [],
   "source": [
    "import pandas as pd\n",
    "import numpy as np\n",
    "import ast\n",
    "import gzip\n",
    "import json\n",
    "import nltk\n",
    "from nltk.sentiment.vader import SentimentIntensityAnalyzer\n",
    "import re"
   ]
  },
  {
   "cell_type": "markdown",
   "metadata": {},
   "source": [
    "def UsersRecommend( año : int ): Devuelve el top 3 de juegos MÁS recomendados por usuarios para el año dado. (reviews.recommend = True y comentarios positivos/neutrales)\n",
    "Ejemplo de retorno: [{\"Puesto 1\" : X}, {\"Puesto 2\" : Y},{\"Puesto 3\" : Z}]"
   ]
  },
  {
   "cell_type": "code",
   "execution_count": 13,
   "metadata": {},
   "outputs": [],
   "source": [
    "\n",
    "def UsersRecommend(year: int):\n",
    "    try:\n",
    "        # Cargar el DataFrame desde el archivo CSV\n",
    "        function3 = pd.read_csv('../Datasets/merged/function3.csv.gz', compression='gzip')\n",
    "\n",
    "        # Filtrar el DataFrame según las condiciones dadas\n",
    "        filtered_df = function3[(function3['recommend'] == 1) & (function3['sentiment_analysis'].isin([1, 2])) & (function3['year'] == year)]\n",
    "\n",
    "        # Agrupar por nombre de la aplicación y contar las recomendaciones\n",
    "        game_recommendations = filtered_df.groupby('app_name')['recommend'].count().sort_values(ascending=False)\n",
    "\n",
    "        # Obtener el top 3 de juegos recomendados como un diccionario\n",
    "        top_3_games = game_recommendations.head(3).to_dict()\n",
    "\n",
    "        # Crear el resultado con el formato deseado\n",
    "        result = {\"year\": year, \"top_3_games\": [{\"puesto {}\".format(i + 1): {game}} for i, (game, _) in enumerate(top_3_games.items())]}\n",
    "\n",
    "        return result\n",
    "\n",
    "    except Exception as e:\n",
    "        return {\"Error\": str(e)}\n"
   ]
  },
  {
   "cell_type": "code",
   "execution_count": 14,
   "metadata": {},
   "outputs": [
    {
     "data": {
      "text/plain": [
       "{'year': 2012,\n",
       " 'top_3_games': [{'puesto 1': {'Counter-Strike: Global Offensive'}},\n",
       "  {'puesto 2': {'Borderlands 2'}},\n",
       "  {'puesto 3': {'PlanetSide 2'}}]}"
      ]
     },
     "execution_count": 14,
     "metadata": {},
     "output_type": "execute_result"
    }
   ],
   "source": [
    "UsersRecommend(2012)"
   ]
  },
  {
   "cell_type": "markdown",
   "metadata": {},
   "source": [
    "La función UsersRecommend identifica y devuelve información sobre los tres juegos más recomendados en un año específico. Al igual que en la función UsersNotRecommend, esta función carga un DataFrame desde un archivo CSV, filtra las entradas según ciertas condiciones (recomendado, sentimiento positivo o neutro, y año específico), y luego agrupa por el nombre de la aplicación para contar las recomendaciones. Los resultados se presentan en un formato específico que incluye el año y los tres juegos más recomendados, con su posición y nombre.\n",
    "\n",
    "La función también maneja excepciones y devuelve un diccionario con un mensaje de error en caso de cualquier problema durante la ejecución, lo cual es una buena práctica para garantizar la robustez del código."
   ]
  }
 ],
 "metadata": {
  "kernelspec": {
   "display_name": "Python 3",
   "language": "python",
   "name": "python3"
  },
  "language_info": {
   "codemirror_mode": {
    "name": "ipython",
    "version": 3
   },
   "file_extension": ".py",
   "mimetype": "text/x-python",
   "name": "python",
   "nbconvert_exporter": "python",
   "pygments_lexer": "ipython3",
   "version": "3.12.0"
  }
 },
 "nbformat": 4,
 "nbformat_minor": 2
}
