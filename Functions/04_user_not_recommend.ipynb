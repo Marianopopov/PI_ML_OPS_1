{
 "cells": [
  {
   "cell_type": "code",
   "execution_count": 1,
   "metadata": {},
   "outputs": [],
   "source": [
    "import pandas as pd\n",
    "import numpy as np\n",
    "import ast\n",
    "import gzip\n",
    "import json\n",
    "import nltk\n",
    "from nltk.sentiment.vader import SentimentIntensityAnalyzer\n",
    "import re"
   ]
  },
  {
   "cell_type": "markdown",
   "metadata": {},
   "source": [
    "def UsersNotRecommend( año : int ): Devuelve el top 3 de juegos MENOS recomendados por usuarios para el año dado. (reviews.recommend = False y comentarios negativos)\n",
    "Ejemplo de retorno: [{\"Puesto 1\" : X}, {\"Puesto 2\" : Y},{\"Puesto 3\" : Z}]"
   ]
  },
  {
   "cell_type": "code",
   "execution_count": 2,
   "metadata": {},
   "outputs": [],
   "source": [
    "def UsersNotRecommend(year: int):\n",
    "    try:\n",
    "        # Cargar el DataFrame desde el archivo CSV\n",
    "        function3 = pd.read_csv('../Datasets/merged/function3.csv.gz',compression='gzip')\n",
    "\n",
    "        # Filtrar el DataFrame según las condiciones dadas\n",
    "        filtered_df = function3[(function3['recommend'] == 0) & (function3['sentiment_analysis'].isin([0, -1])) & (function3['year'] == year)]\n",
    "\n",
    "        # Agrupar por nombre de la aplicación y contar las no recomendaciones\n",
    "        game_not_recommendations = filtered_df.groupby('app_name')['recommend'].count().sort_values(ascending=False)\n",
    "\n",
    "        # Obtener el top 3 de juegos menos recomendados como un diccionario\n",
    "        top_3_not_recommended = game_not_recommendations.head(3).to_dict()\n",
    "\n",
    "        # Crear el resultado con el formato deseado\n",
    "        result = {\"year\": year, \"top_3_not_recommended\": [{\"puesto {}\".format(i + 1): {game}} for i, (game, _) in enumerate(top_3_not_recommended.items())]}\n",
    "\n",
    "        return result\n",
    "\n",
    "    except Exception as e:\n",
    "        return {\"Error\": str(e)}\n",
    "\n"
   ]
  },
  {
   "cell_type": "code",
   "execution_count": 3,
   "metadata": {},
   "outputs": [
    {
     "data": {
      "text/plain": [
       "{'year': 2012,\n",
       " 'top_3_not_recommended': [{'puesto 1': {'Counter-Strike: Global Offensive'}},\n",
       "  {'puesto 2': {'Realm of the Mad God'}},\n",
       "  {'puesto 3': {'Chivalry: Medieval Warfare'}}]}"
      ]
     },
     "execution_count": 3,
     "metadata": {},
     "output_type": "execute_result"
    }
   ],
   "source": [
    "UsersNotRecommend(2012)"
   ]
  }
 ],
 "metadata": {
  "kernelspec": {
   "display_name": "Python 3",
   "language": "python",
   "name": "python3"
  },
  "language_info": {
   "codemirror_mode": {
    "name": "ipython",
    "version": 3
   },
   "file_extension": ".py",
   "mimetype": "text/x-python",
   "name": "python",
   "nbconvert_exporter": "python",
   "pygments_lexer": "ipython3",
   "version": "3.12.0"
  }
 },
 "nbformat": 4,
 "nbformat_minor": 2
}
