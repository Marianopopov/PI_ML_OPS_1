{
 "cells": [
  {
   "cell_type": "code",
   "execution_count": 1,
   "metadata": {},
   "outputs": [],
   "source": [
    "import pandas as pd\n",
    "import ast"
   ]
  },
  {
   "cell_type": "markdown",
   "metadata": {},
   "source": [
    "def UserForGenre( genero : str ): Debe devolver el usuario que acumula más horas jugadas para el género dado y una lista de la acumulación de horas jugadas por año.\n",
    "Ejemplo de retorno: {\"Usuario con más horas jugadas para Género X\" : us213ndjss09sdf, \"Horas jugadas\":[{Año: 2013, Horas: 203}, {Año: 2012, Horas: 100}, {Año: 2011, Horas: 23}]}\n"
   ]
  },
  {
   "cell_type": "code",
   "execution_count": 27,
   "metadata": {},
   "outputs": [],
   "source": [
    "genre_unique = pd.read_csv ('genre_unique.csv')\n",
    "lista_resultante = genre_unique['genres'].tolist()\n"
   ]
  },
  {
   "cell_type": "code",
   "execution_count": 29,
   "metadata": {},
   "outputs": [
    {
     "data": {
      "text/plain": [
       "334"
      ]
     },
     "execution_count": 29,
     "metadata": {},
     "output_type": "execute_result"
    }
   ],
   "source": [
    "len(lista_resultante)"
   ]
  },
  {
   "cell_type": "code",
   "execution_count": 21,
   "metadata": {},
   "outputs": [],
   "source": [
    "def load_and_prepare_data(file_path):\n",
    "    steam_users = pd.read_csv(file_path, compression='gzip')\n",
    "    steam_users['genres'] = steam_users['genres'].apply(ast.literal_eval)\n",
    "    return steam_users\n",
    "\n",
    "file_path = 'user_genre.csv.gz'\n",
    "steam_users_data = load_and_prepare_data(file_path)\n"
   ]
  },
  {
   "cell_type": "code",
   "execution_count": 22,
   "metadata": {},
   "outputs": [
    {
     "data": {
      "text/html": [
       "<div>\n",
       "<style scoped>\n",
       "    .dataframe tbody tr th:only-of-type {\n",
       "        vertical-align: middle;\n",
       "    }\n",
       "\n",
       "    .dataframe tbody tr th {\n",
       "        vertical-align: top;\n",
       "    }\n",
       "\n",
       "    .dataframe thead th {\n",
       "        text-align: right;\n",
       "    }\n",
       "</style>\n",
       "<table border=\"1\" class=\"dataframe\">\n",
       "  <thead>\n",
       "    <tr style=\"text-align: right;\">\n",
       "      <th></th>\n",
       "      <th>year</th>\n",
       "      <th>playtime_forever</th>\n",
       "      <th>user_id</th>\n",
       "      <th>genres</th>\n",
       "    </tr>\n",
       "  </thead>\n",
       "  <tbody>\n",
       "    <tr>\n",
       "      <th>0</th>\n",
       "      <td>2000</td>\n",
       "      <td>0.100000</td>\n",
       "      <td>76561197970982479</td>\n",
       "      <td>[Action, FPS, Multiplayer, Shooter, Classic, T...</td>\n",
       "    </tr>\n",
       "    <tr>\n",
       "      <th>1</th>\n",
       "      <td>2000</td>\n",
       "      <td>1.550000</td>\n",
       "      <td>doctr</td>\n",
       "      <td>[Action, FPS, Multiplayer, Shooter, Classic, T...</td>\n",
       "    </tr>\n",
       "    <tr>\n",
       "      <th>2</th>\n",
       "      <td>2000</td>\n",
       "      <td>1.800000</td>\n",
       "      <td>corrupted_soul</td>\n",
       "      <td>[Action, FPS, Multiplayer, Shooter, Classic, T...</td>\n",
       "    </tr>\n",
       "    <tr>\n",
       "      <th>3</th>\n",
       "      <td>2000</td>\n",
       "      <td>5.466667</td>\n",
       "      <td>WeiEDKrSat</td>\n",
       "      <td>[Action, FPS, Multiplayer, Shooter, Classic, T...</td>\n",
       "    </tr>\n",
       "    <tr>\n",
       "      <th>4</th>\n",
       "      <td>2000</td>\n",
       "      <td>104.583333</td>\n",
       "      <td>death-hunter</td>\n",
       "      <td>[Action, FPS, Multiplayer, Shooter, Classic, T...</td>\n",
       "    </tr>\n",
       "    <tr>\n",
       "      <th>...</th>\n",
       "      <td>...</td>\n",
       "      <td>...</td>\n",
       "      <td>...</td>\n",
       "      <td>...</td>\n",
       "    </tr>\n",
       "    <tr>\n",
       "      <th>2185808</th>\n",
       "      <td>2016</td>\n",
       "      <td>0.216667</td>\n",
       "      <td>thekushcorner</td>\n",
       "      <td>[RPG, Indie, Adventure, Procedural Generation,...</td>\n",
       "    </tr>\n",
       "    <tr>\n",
       "      <th>2185809</th>\n",
       "      <td>2016</td>\n",
       "      <td>0.100000</td>\n",
       "      <td>peter1023199</td>\n",
       "      <td>[Simulation, Racing, Sports]</td>\n",
       "    </tr>\n",
       "    <tr>\n",
       "      <th>2185810</th>\n",
       "      <td>2016</td>\n",
       "      <td>0.766667</td>\n",
       "      <td>76561198071808318</td>\n",
       "      <td>[Indie, Adventure, Cute, Puzzle-Platformer, Pl...</td>\n",
       "    </tr>\n",
       "    <tr>\n",
       "      <th>2185811</th>\n",
       "      <td>2016</td>\n",
       "      <td>2.733333</td>\n",
       "      <td>76561198107283457</td>\n",
       "      <td>[Indie, Casual, Action, Simulation]</td>\n",
       "    </tr>\n",
       "    <tr>\n",
       "      <th>2185812</th>\n",
       "      <td>2015</td>\n",
       "      <td>0.116667</td>\n",
       "      <td>danebuchanan</td>\n",
       "      <td>[Casual, Simulation, Psychological Horror, Hor...</td>\n",
       "    </tr>\n",
       "  </tbody>\n",
       "</table>\n",
       "<p>2185813 rows × 4 columns</p>\n",
       "</div>"
      ],
      "text/plain": [
       "         year  playtime_forever            user_id  \\\n",
       "0        2000          0.100000  76561197970982479   \n",
       "1        2000          1.550000              doctr   \n",
       "2        2000          1.800000     corrupted_soul   \n",
       "3        2000          5.466667         WeiEDKrSat   \n",
       "4        2000        104.583333       death-hunter   \n",
       "...       ...               ...                ...   \n",
       "2185808  2016          0.216667      thekushcorner   \n",
       "2185809  2016          0.100000       peter1023199   \n",
       "2185810  2016          0.766667  76561198071808318   \n",
       "2185811  2016          2.733333  76561198107283457   \n",
       "2185812  2015          0.116667       danebuchanan   \n",
       "\n",
       "                                                    genres  \n",
       "0        [Action, FPS, Multiplayer, Shooter, Classic, T...  \n",
       "1        [Action, FPS, Multiplayer, Shooter, Classic, T...  \n",
       "2        [Action, FPS, Multiplayer, Shooter, Classic, T...  \n",
       "3        [Action, FPS, Multiplayer, Shooter, Classic, T...  \n",
       "4        [Action, FPS, Multiplayer, Shooter, Classic, T...  \n",
       "...                                                    ...  \n",
       "2185808  [RPG, Indie, Adventure, Procedural Generation,...  \n",
       "2185809                       [Simulation, Racing, Sports]  \n",
       "2185810  [Indie, Adventure, Cute, Puzzle-Platformer, Pl...  \n",
       "2185811                [Indie, Casual, Action, Simulation]  \n",
       "2185812  [Casual, Simulation, Psychological Horror, Hor...  \n",
       "\n",
       "[2185813 rows x 4 columns]"
      ]
     },
     "execution_count": 22,
     "metadata": {},
     "output_type": "execute_result"
    }
   ],
   "source": [
    "steam_users_data"
   ]
  },
  {
   "cell_type": "markdown",
   "metadata": {},
   "source": [
    "- Funciones para obtener el usuario con más horas jugadas por género y año:"
   ]
  },
  {
   "cell_type": "code",
   "execution_count": 23,
   "metadata": {},
   "outputs": [],
   "source": [
    "def get_user_max_time_for_genre(data, genre):\n",
    "    try:\n",
    "        user_max = data[data['genres'].apply(lambda x: genre in x)][['user_id', 'playtime_forever']].groupby('user_id').sum().nlargest(1, 'playtime_forever').index[0]\n",
    "        return user_max\n",
    "    except IndexError:\n",
    "        return 'Nadie'\n",
    "\n",
    "def get_max_time_for_year(data, user):\n",
    "    if user != 'Nadie':\n",
    "        return data[data['user_id'] == user][['year', 'playtime_forever']].groupby('year').sum().to_dict()\n",
    "    else:\n",
    "        return {}\n"
   ]
  },
  {
   "cell_type": "markdown",
   "metadata": {},
   "source": [
    "- Crear y guardar la tabla:\n",
    "\n"
   ]
  },
  {
   "cell_type": "code",
   "execution_count": 31,
   "metadata": {},
   "outputs": [],
   "source": [
    "def create_and_save_table(data, genres_unique, output_file):\n",
    "    tabla_1 = pd.DataFrame(index=genres_unique, columns=['nombre'])\n",
    "    tabla_1 = tabla_1.reset_index()\n",
    "\n",
    "    def user_max_time(genres):\n",
    "        return get_user_max_time_for_genre(data, genres)\n",
    "\n",
    "    def max_time_for_year(user):\n",
    "        return get_max_time_for_year(data, user)\n",
    "\n",
    "    tabla_1['nombre'] = tabla_1['index'].apply(user_max_time)\n",
    "    tabla_1['year'] = tabla_1['nombre'].apply(max_time_for_year)\n",
    "\n",
    "    tabla_1.to_csv(output_file, compression='gzip')\n",
    "    return tabla_1\n",
    "\n",
    "# Reemplaza '02_nombres_max.csv.gz' con el nombre deseado para el archivo de salida\n",
    "output_file_path = '02_nombres_max.csv.gz'\n",
    "genres_unique = lista_resultante\n",
    "tabla_1_result = create_and_save_table(steam_users_data, genres_unique, output_file_path)\n"
   ]
  },
  {
   "cell_type": "code",
   "execution_count": 5,
   "metadata": {},
   "outputs": [],
   "source": [
    "def get_endpoint_result(genre):\n",
    "    consulta_final = pd.read_csv('../Datasets/merged/02_nombres_max.csv.gz', index_col=['index'])\n",
    "    user_max = consulta_final.loc[genre].nombre\n",
    "    diccionario = ast.literal_eval(consulta_final.loc[genre].year)\n",
    "    diccionario['Horas_Jugadas'] = diccionario.pop('playtime_forever')\n",
    "    return f\"Usuario con más horas jugadas para Género {genre}: {user_max}, Horas jugadas: {[str(diccionario)]}\"\n"
   ]
  },
  {
   "cell_type": "code",
   "execution_count": 9,
   "metadata": {},
   "outputs": [
    {
     "data": {
      "text/plain": [
       "[{'Usuario': 'shinomegami',\n",
       "  'Horas_Jugadas': {1986: 0.0166666666666666,\n",
       "   1988: 2.2666666666666666,\n",
       "   1993: 513.7166666666666,\n",
       "   1995: 0.0333333333333333,\n",
       "   1996: 38.28333333333333,\n",
       "   1997: 1.65,\n",
       "   1998: 61.93333333333333,\n",
       "   1999: 6.55,\n",
       "   2000: 958.2166666666667,\n",
       "   2001: 40.516666666666666,\n",
       "   2002: 42.66666666666667,\n",
       "   2003: 8892.483333333334,\n",
       "   2004: 3.2666666666666666,\n",
       "   2005: 37.95,\n",
       "   2006: 58.08333333333333,\n",
       "   2007: 2283.0333333333338,\n",
       "   2008: 55.150000000000006,\n",
       "   2009: 3672.316666666667,\n",
       "   2010: 319.95,\n",
       "   2011: 1598.0,\n",
       "   2012: 4957.133333333333,\n",
       "   2013: 7352.2,\n",
       "   2014: 6125.966666666667,\n",
       "   2015: 6277.533333333334,\n",
       "   2016: 739.3666666666666,\n",
       "   2017: 2.2666666666666666},\n",
       "  'Detalle_Horas': {'Horas_Jugadas': {1986: 0.0166666666666666,\n",
       "    1988: 2.2666666666666666,\n",
       "    1993: 513.7166666666666,\n",
       "    1995: 0.0333333333333333,\n",
       "    1996: 38.28333333333333,\n",
       "    1997: 1.65,\n",
       "    1998: 61.93333333333333,\n",
       "    1999: 6.55,\n",
       "    2000: 958.2166666666667,\n",
       "    2001: 40.516666666666666,\n",
       "    2002: 42.66666666666667,\n",
       "    2003: 8892.483333333334,\n",
       "    2004: 3.2666666666666666,\n",
       "    2005: 37.95,\n",
       "    2006: 58.08333333333333,\n",
       "    2007: 2283.0333333333338,\n",
       "    2008: 55.150000000000006,\n",
       "    2009: 3672.316666666667,\n",
       "    2010: 319.95,\n",
       "    2011: 1598.0,\n",
       "    2012: 4957.133333333333,\n",
       "    2013: 7352.2,\n",
       "    2014: 6125.966666666667,\n",
       "    2015: 6277.533333333334,\n",
       "    2016: 739.3666666666666,\n",
       "    2017: 2.2666666666666666}}}]"
      ]
     },
     "execution_count": 9,
     "metadata": {},
     "output_type": "execute_result"
    }
   ],
   "source": [
    "get_endpoint_result('Action')"
   ]
  },
  {
   "cell_type": "code",
   "execution_count": 6,
   "metadata": {},
   "outputs": [],
   "source": [
    "def get_endpoint_result(genre):\n",
    "    consulta_final = pd.read_csv('../Datasets/merged/02_nombres_max.csv.gz', index_col=['index'])\n",
    "    user_max = consulta_final.loc[genre].nombre\n",
    "    diccionario = ast.literal_eval(consulta_final.loc[genre].year)\n",
    "    diccionario['Horas_Jugadas'] = diccionario.pop('playtime_forever')\n",
    "\n",
    "    result_list = [\n",
    "        {\n",
    "            'Usuario': user_max,\n",
    "            'Horas_Jugadas': diccionario['Horas_Jugadas'],\n",
    "            'Detalle_Horas': diccionario,\n",
    "        }\n",
    "    ]\n",
    "\n",
    "    return result_list\n"
   ]
  }
 ],
 "metadata": {
  "kernelspec": {
   "display_name": "Python 3",
   "language": "python",
   "name": "python3"
  },
  "language_info": {
   "codemirror_mode": {
    "name": "ipython",
    "version": 3
   },
   "file_extension": ".py",
   "mimetype": "text/x-python",
   "name": "python",
   "nbconvert_exporter": "python",
   "pygments_lexer": "ipython3",
   "version": "3.12.0"
  }
 },
 "nbformat": 4,
 "nbformat_minor": 2
}
