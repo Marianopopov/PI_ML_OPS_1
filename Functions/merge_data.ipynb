{
 "cells": [
  {
   "cell_type": "code",
   "execution_count": 1,
   "metadata": {},
   "outputs": [],
   "source": [
    "import pandas as pd \n",
    "import gzip "
   ]
  },
  {
   "cell_type": "markdown",
   "metadata": {},
   "source": [
    "* CARGA DE CONJUNTOS DE DATOS LIMPIOS"
   ]
  },
  {
   "cell_type": "code",
   "execution_count": 3,
   "metadata": {},
   "outputs": [],
   "source": [
    "user_item = pd.read_csv('../Datasets/cleaned/user_items_cleaned.csv.gz')\n",
    "steam_games = pd.read_csv ('../Datasets/cleaned/steam_games_cleaned.csv')\n",
    "user_reviews = pd.read_csv ('../Datasets//cleaned/user_review_cleaned.csv')"
   ]
  },
  {
   "cell_type": "markdown",
   "metadata": {},
   "source": [
    "* CREO MERGE ENTRE STEAM_GAMES Y USER_REVIEWS"
   ]
  },
  {
   "cell_type": "code",
   "execution_count": null,
   "metadata": {},
   "outputs": [],
   "source": [
    "function3 = pd.merge(steam_games, user_reviews, left_on='id', right_on='item_id', how='inner')\n",
    "\n",
    "function3.to_csv('../Datasets/merged/function3.csv.gz',index=False, compression='gzip')"
   ]
  },
  {
   "cell_type": "markdown",
   "metadata": {},
   "source": [
    "* CREO MERGE ENTRE USER_ITEMS Y STEAM_GAMES "
   ]
  },
  {
   "cell_type": "code",
   "execution_count": 19,
   "metadata": {},
   "outputs": [],
   "source": [
    "user_genre = pd.merge (user_item, steam_games, left_on='item_name', right_on='app_name', how='inner')\n",
    "user_genre = user_genre[['year','playtime_forever','user_id','genres']]"
   ]
  },
  {
   "cell_type": "code",
   "execution_count": 20,
   "metadata": {},
   "outputs": [],
   "source": [
    "# Elimino registros en mayores a 0 horas en playtime_forever que a mi parecer no son relevantes, con el fin de disminuir el \n",
    "# espacio de mi df.\n",
    "user_genre = user_genre[user_genre['playtime_forever']>0]"
   ]
  },
  {
   "cell_type": "code",
   "execution_count": 21,
   "metadata": {},
   "outputs": [],
   "source": [
    "user_genre['playtime_forever'] = user_genre['playtime_forever'] /60 "
   ]
  },
  {
   "cell_type": "code",
   "execution_count": null,
   "metadata": {},
   "outputs": [],
   "source": [
    "user_genre.to_csv('../Datasets/merged/user_genre.csv.gz',index=False, compression='gzip')"
   ]
  }
 ],
 "metadata": {
  "kernelspec": {
   "display_name": "Python 3",
   "language": "python",
   "name": "python3"
  },
  "language_info": {
   "codemirror_mode": {
    "name": "ipython",
    "version": 3
   },
   "file_extension": ".py",
   "mimetype": "text/x-python",
   "name": "python",
   "nbconvert_exporter": "python",
   "pygments_lexer": "ipython3",
   "version": "3.11.5"
  }
 },
 "nbformat": 4,
 "nbformat_minor": 2
}
