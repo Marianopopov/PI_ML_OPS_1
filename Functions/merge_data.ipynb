{
 "cells": [
  {
   "cell_type": "code",
   "execution_count": 17,
   "metadata": {},
   "outputs": [],
   "source": [
    "import pandas as pd \n",
    "import gzip "
   ]
  },
  {
   "cell_type": "code",
   "execution_count": 18,
   "metadata": {},
   "outputs": [],
   "source": [
    "user_item = pd.read_csv('../Datasets/user_items_cleaned.csv.gz')\n",
    "steam_games = pd.read_csv ('../Datasets/steam_games_cleaned.csv')\n",
    "user_reviews = pd.read_csv ('../Datasets/user_review_cleaned.csv')"
   ]
  },
  {
   "cell_type": "code",
   "execution_count": 23,
   "metadata": {},
   "outputs": [],
   "source": [
    "function3 = pd.merge(steam_games, user_reviews, left_on='id', right_on='item_id', how='inner')\n",
    "\n",
    "function3.to_csv('../Datasets/data_Api/function3.csv',index=False)\n",
    "\n",
    "with gzip.open('../Datasets/data_Api/function3.csv.gz', 'wb') as f:\n",
    "    function3.to_csv(f, index=False, encoding='utf-8')"
   ]
  }
 ],
 "metadata": {
  "kernelspec": {
   "display_name": "Python 3",
   "language": "python",
   "name": "python3"
  },
  "language_info": {
   "codemirror_mode": {
    "name": "ipython",
    "version": 3
   },
   "file_extension": ".py",
   "mimetype": "text/x-python",
   "name": "python",
   "nbconvert_exporter": "python",
   "pygments_lexer": "ipython3",
   "version": "3.11.5"
  }
 },
 "nbformat": 4,
 "nbformat_minor": 2
}
