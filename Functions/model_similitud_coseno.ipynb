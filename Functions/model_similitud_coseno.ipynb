{
 "cells": [
  {
   "cell_type": "code",
   "execution_count": 1,
   "metadata": {},
   "outputs": [],
   "source": [
    "import pandas as pd\n",
    "from sklearn.feature_extraction.text import TfidfVectorizer\n",
    "from sklearn.metrics.pairwise import cosine_similarity\n",
    "import numpy as np\n",
    "from sklearn.metrics import precision_score, recall_score"
   ]
  },
  {
   "cell_type": "markdown",
   "metadata": {},
   "source": [
    "MODELO: SIMILITUD DE COSENO"
   ]
  },
  {
   "cell_type": "code",
   "execution_count": 3,
   "metadata": {},
   "outputs": [],
   "source": [
    "df = pd.read_csv('../Datasets/merged/function3.csv.gz', compression='gzip').sample(frac=0.7, random_state=42)  # Utilizamos el 10% del conjunto de datos\n",
    "df['review'].fillna('', inplace=True)\n",
    "\n",
    "\n",
    "# Representación vectorial con TF-IDF\n",
    "vectorizer = TfidfVectorizer(stop_words='english')\n",
    "tfidf_matrix = vectorizer.fit_transform(df['review'])\n",
    "\n",
    "# Asegurarse de que la matriz contenga solo valores numéricos\n",
    "tfidf_matrix = tfidf_matrix.astype(float)\n",
    "\n",
    "# Calcular la similitud de coseno\n",
    "cosine_sim = cosine_similarity(tfidf_matrix, tfidf_matrix)\n",
    "\n",
    "# Crear un DataFrame de similitud\n",
    "cosine_sim_df = pd.DataFrame(cosine_sim, index=df.index, columns=df.index)\n",
    "\n",
    "def obtener_juegos_recomendados(id_juego, num_recomendaciones=5):\n",
    "    # Obtener la fila correspondiente al juego dado\n",
    "    juego_fila = cosine_sim_df.loc[id_juego]\n",
    "\n",
    "    # Ordenar los juegos por similitud (en orden descendente)\n",
    "    juegos_similares = juego_fila.sort_values(ascending=False)\n",
    "\n",
    "    # Excluir el juego dado de la lista de recomendaciones\n",
    "    juegos_recomendados = juegos_similares.drop(id_juego)\n",
    "\n",
    "    # Tomar los primeros 'num_recomendaciones' juegos\n",
    "    juegos_recomendados = juegos_recomendados.head(num_recomendaciones)\n",
    "\n",
    "    return juegos_recomendados.index.tolist()\n"
   ]
  },
  {
   "cell_type": "code",
   "execution_count": 5,
   "metadata": {},
   "outputs": [
    {
     "name": "stdout",
     "output_type": "stream",
     "text": [
      "Juegos recomendados:\n",
      "1. Team Fortress 2\n",
      "2. Left 4 Dead 2\n",
      "3. The Ship: Murder Party\n",
      "4. Unturned\n",
      "5. FEZ\n"
     ]
    }
   ],
   "source": [
    "recomendaciones = obtener_juegos_recomendados(26577)\n",
    "print(f\"Juegos recomendados:\")\n",
    "for i, juego_id in enumerate(recomendaciones, start=1):\n",
    "    juego_nombre = df.loc[juego_id, 'app_name']\n",
    "    print(f\"{i}. {juego_nombre}\")"
   ]
  }
 ],
 "metadata": {
  "kernelspec": {
   "display_name": "Python 3",
   "language": "python",
   "name": "python3"
  },
  "language_info": {
   "codemirror_mode": {
    "name": "ipython",
    "version": 3
   },
   "file_extension": ".py",
   "mimetype": "text/x-python",
   "name": "python",
   "nbconvert_exporter": "python",
   "pygments_lexer": "ipython3",
   "version": "3.12.0"
  }
 },
 "nbformat": 4,
 "nbformat_minor": 2
}
