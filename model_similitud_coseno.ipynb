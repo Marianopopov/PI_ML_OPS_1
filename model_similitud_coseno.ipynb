{
 "cells": [
  {
   "cell_type": "code",
   "execution_count": 2,
   "metadata": {},
   "outputs": [],
   "source": [
    "import pandas as pd\n",
    "from sklearn.feature_extraction.text import TfidfVectorizer\n",
    "from sklearn.metrics.pairwise import cosine_similarity\n",
    "import numpy as np\n",
    "from sklearn.metrics import precision_score, recall_score"
   ]
  },
  {
   "cell_type": "markdown",
   "metadata": {},
   "source": [
    "MODELO: SIMILITUD DE COSENO"
   ]
  },
  {
   "cell_type": "code",
   "execution_count": 67,
   "metadata": {},
   "outputs": [],
   "source": [
    "df = pd.read_csv('./Datasets/function3.csv.gz', compression='gzip').sample(frac=0.7, random_state=42)  # Utilizamos el 10% del conjunto de datos\n",
    "df['review'].fillna('', inplace=True)\n",
    "\n",
    "\n",
    "# Representación vectorial con TF-IDF\n",
    "vectorizer = TfidfVectorizer(stop_words='english')\n",
    "tfidf_matrix = vectorizer.fit_transform(df['review'])\n",
    "\n",
    "# Asegurarse de que la matriz contenga solo valores numéricos\n",
    "tfidf_matrix = tfidf_matrix.astype(float)\n",
    "\n",
    "# Calcular la similitud de coseno\n",
    "cosine_sim = cosine_similarity(tfidf_matrix, tfidf_matrix)\n",
    "\n",
    "# Crear un DataFrame de similitud\n",
    "cosine_sim_df = pd.DataFrame(cosine_sim, index=df.index, columns=df.index)\n",
    "\n",
    "def obtener_juegos_recomendados(id_juego, num_recomendaciones=5):\n",
    "    # Obtener la fila correspondiente al juego dado\n",
    "    juego_fila = cosine_sim_df.loc[id_juego]\n",
    "\n",
    "    # Ordenar los juegos por similitud (en orden descendente)\n",
    "    juegos_similares = juego_fila.sort_values(ascending=False)\n",
    "\n",
    "    # Excluir el juego dado de la lista de recomendaciones\n",
    "    juegos_recomendados = juegos_similares.drop(id_juego)\n",
    "\n",
    "    # Tomar los primeros 'num_recomendaciones' juegos\n",
    "    juegos_recomendados = juegos_recomendados.head(num_recomendaciones)\n",
    "\n",
    "    return juegos_recomendados.index.tolist()\n"
   ]
  },
  {
   "cell_type": "code",
   "execution_count": 76,
   "metadata": {},
   "outputs": [
    {
     "name": "stdout",
     "output_type": "stream",
     "text": [
      "Juegos recomendados:\n",
      "1. Team Fortress 2\n",
      "2. Left 4 Dead 2\n",
      "3. The Ship: Murder Party\n",
      "4. Unturned\n",
      "5. FEZ\n"
     ]
    }
   ],
   "source": [
    "# Ejemplo de uso\n",
    "juego_ingresado = df.loc[df['app_name'] == 'Rust'].index[0]  # Obtener el ID del juego 'Half-Life'\n",
    "recomendaciones = obtener_juegos_recomendados(juego_ingresado)\n",
    "\n",
    "print(f\"Juegos recomendados:\")\n",
    "for i, juego_id in enumerate(recomendaciones, start=1):\n",
    "    juego_nombre = df.loc[juego_id, 'app_name']\n",
    "    print(f\"{i}. {juego_nombre}\")"
   ]
  },
  {
   "cell_type": "code",
   "execution_count": 77,
   "metadata": {},
   "outputs": [
    {
     "data": {
      "text/plain": [
       "[41105, 37809, 72, 17840, 29729]"
      ]
     },
     "execution_count": 77,
     "metadata": {},
     "output_type": "execute_result"
    }
   ],
   "source": [
    "obtener_juegos_recomendados(26577)"
   ]
  },
  {
   "cell_type": "code",
   "execution_count": 11,
   "metadata": {},
   "outputs": [
    {
     "ename": "IndentationError",
     "evalue": "expected an indented block after 'for' statement on line 43 (3600903514.py, line 44)",
     "output_type": "error",
     "traceback": [
      "\u001b[1;36m  Cell \u001b[1;32mIn[11], line 44\u001b[1;36m\u001b[0m\n\u001b[1;33m    juego_nombre = df.loc[juego_id, 'app_name']\u001b[0m\n\u001b[1;37m    ^\u001b[0m\n\u001b[1;31mIndentationError\u001b[0m\u001b[1;31m:\u001b[0m expected an indented block after 'for' statement on line 43\n"
     ]
    }
   ],
   "source": [
    "import pandas as pd\n",
    "from sklearn.feature_extraction.text import TfidfVectorizer\n",
    "from sklearn.metrics.pairwise import cosine_similarity\n",
    "\n",
    "def recomendacion_juego(nombre_juego, num_recomendaciones=5):\n",
    "    # Cargar el conjunto de datos\n",
    "        df = pd.read_csv('./Datasets/function3.csv.gz', compression='gzip').sample(frac=0.7, random_state=42)\n",
    "        df['review'].fillna('', inplace=True)\n",
    "\n",
    "        # Representación vectorial con TF-IDF\n",
    "        vectorizer = TfidfVectorizer(stop_words='english')\n",
    "        tfidf_matrix = vectorizer.fit_transform(df['review'])\n",
    "\n",
    "        # Asegurarse de que la matriz contenga solo valores numéricos\n",
    "        tfidf_matrix = tfidf_matrix.astype(float)\n",
    "\n",
    "        # Calcular la similitud de coseno\n",
    "        cosine_sim = cosine_similarity(tfidf_matrix, tfidf_matrix)\n",
    "\n",
    "        # Crear un DataFrame de similitud\n",
    "        cosine_sim_df = pd.DataFrame(cosine_sim, index=df.index, columns=df.index)\n",
    "\n",
    "        # Obtener el ID del juego dado el nombre\n",
    "        juego_id = df[df['app_name'] == nombre_juego].index[0]\n",
    "\n",
    "        # Obtener la fila correspondiente al juego dado\n",
    "        juego_fila = cosine_sim_df.loc[juego_id]\n",
    "\n",
    "        # Ordenar los juegos por similitud (en orden descendente)\n",
    "        juegos_similares = juego_fila.sort_values(ascending=False)\n",
    "\n",
    "        # Excluir el juego dado de la lista de recomendaciones\n",
    "        juegos_recomendados = juegos_similares.drop(juego_id)\n",
    "\n",
    "        # Tomar los primeros 'num_recomendaciones' juegos\n",
    "        juegos_recomendados = juegos_recomendados.head(num_recomendaciones)\n",
    "\n",
    "        # Obtener los nombres de los juegos recomendados como lista\n",
    "        nombres_recomendados = df.loc[juegos_recomendados.index, 'app_name'].tolist()\n",
    "\n",
    "        # Crear un diccionario de recomendaciones\n",
    "        recomendaciones = []\n",
    "        for i, juego_id in enumerate(juegos_recomendados.index, start=1):\n",
    "            juego_nombre = df.loc[juego_id, 'app_name']\n",
    "            recomendacion = {f\"Recomendacion {i}\": juego_nombre}\n",
    "            recomendaciones.append(recomendacion)\n",
    "\n",
    "\n",
    "        return recomendaciones\n",
    "                \n",
    "\n",
    "recomendacion_juego('Rust')\n"
   ]
  }
 ],
 "metadata": {
  "kernelspec": {
   "display_name": "Python 3",
   "language": "python",
   "name": "python3"
  },
  "language_info": {
   "codemirror_mode": {
    "name": "ipython",
    "version": 3
   },
   "file_extension": ".py",
   "mimetype": "text/x-python",
   "name": "python",
   "nbconvert_exporter": "python",
   "pygments_lexer": "ipython3",
   "version": "3.11.5"
  }
 },
 "nbformat": 4,
 "nbformat_minor": 2
}
