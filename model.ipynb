{
 "cells": [
  {
   "cell_type": "code",
   "execution_count": 2,
   "metadata": {},
   "outputs": [],
   "source": [
    "import pandas as pd\n",
    "import numpy as np\n",
    "import seaborn as sns\n",
    "import matplotlib.pyplot as plt\n",
    "from sklearn.metrics.pairwise import cosine_similarity"
   ]
  },
  {
   "cell_type": "code",
   "execution_count": 7,
   "metadata": {},
   "outputs": [
    {
     "ename": "FileNotFoundError",
     "evalue": "[Errno 2] No such file or directory: '../Datasets/function3.csv.gz'",
     "output_type": "error",
     "traceback": [
      "\u001b[1;31m---------------------------------------------------------------------------\u001b[0m",
      "\u001b[1;31mFileNotFoundError\u001b[0m                         Traceback (most recent call last)",
      "\u001b[1;32mc:\\Users\\maria\\Desktop\\PI_ML_OPS_1\\PI_ML_OPS_1\\model.ipynb Celda 2\u001b[0m line \u001b[0;36m1\n\u001b[1;32m----> <a href='vscode-notebook-cell:/c%3A/Users/maria/Desktop/PI_ML_OPS_1/PI_ML_OPS_1/model.ipynb#W1sZmlsZQ%3D%3D?line=0'>1</a>\u001b[0m steam \u001b[39m=\u001b[39m pd\u001b[39m.\u001b[39;49mread_csv (\u001b[39m'\u001b[39;49m\u001b[39m../Datasets/function3.csv.gz\u001b[39;49m\u001b[39m'\u001b[39;49m, compression\u001b[39m=\u001b[39;49m\u001b[39m'\u001b[39;49m\u001b[39mgzip\u001b[39;49m\u001b[39m'\u001b[39;49m, usecols\u001b[39m=\u001b[39;49m[\u001b[39m'\u001b[39;49m\u001b[39muser_id\u001b[39;49m\u001b[39m'\u001b[39;49m,\u001b[39m'\u001b[39;49m\u001b[39mitem_id\u001b[39;49m\u001b[39m'\u001b[39;49m,\u001b[39m'\u001b[39;49m\u001b[39msentiment_analysis\u001b[39;49m\u001b[39m'\u001b[39;49m,\u001b[39m'\u001b[39;49m\u001b[39mrecommend\u001b[39;49m\u001b[39m'\u001b[39;49m,\u001b[39m'\u001b[39;49m\u001b[39mapp_name\u001b[39;49m\u001b[39m'\u001b[39;49m])\n",
      "File \u001b[1;32m~\\AppData\\Roaming\\Python\\Python311\\site-packages\\pandas\\io\\parsers\\readers.py:912\u001b[0m, in \u001b[0;36mread_csv\u001b[1;34m(filepath_or_buffer, sep, delimiter, header, names, index_col, usecols, dtype, engine, converters, true_values, false_values, skipinitialspace, skiprows, skipfooter, nrows, na_values, keep_default_na, na_filter, verbose, skip_blank_lines, parse_dates, infer_datetime_format, keep_date_col, date_parser, date_format, dayfirst, cache_dates, iterator, chunksize, compression, thousands, decimal, lineterminator, quotechar, quoting, doublequote, escapechar, comment, encoding, encoding_errors, dialect, on_bad_lines, delim_whitespace, low_memory, memory_map, float_precision, storage_options, dtype_backend)\u001b[0m\n\u001b[0;32m    899\u001b[0m kwds_defaults \u001b[39m=\u001b[39m _refine_defaults_read(\n\u001b[0;32m    900\u001b[0m     dialect,\n\u001b[0;32m    901\u001b[0m     delimiter,\n\u001b[1;32m   (...)\u001b[0m\n\u001b[0;32m    908\u001b[0m     dtype_backend\u001b[39m=\u001b[39mdtype_backend,\n\u001b[0;32m    909\u001b[0m )\n\u001b[0;32m    910\u001b[0m kwds\u001b[39m.\u001b[39mupdate(kwds_defaults)\n\u001b[1;32m--> 912\u001b[0m \u001b[39mreturn\u001b[39;00m _read(filepath_or_buffer, kwds)\n",
      "File \u001b[1;32m~\\AppData\\Roaming\\Python\\Python311\\site-packages\\pandas\\io\\parsers\\readers.py:577\u001b[0m, in \u001b[0;36m_read\u001b[1;34m(filepath_or_buffer, kwds)\u001b[0m\n\u001b[0;32m    574\u001b[0m _validate_names(kwds\u001b[39m.\u001b[39mget(\u001b[39m\"\u001b[39m\u001b[39mnames\u001b[39m\u001b[39m\"\u001b[39m, \u001b[39mNone\u001b[39;00m))\n\u001b[0;32m    576\u001b[0m \u001b[39m# Create the parser.\u001b[39;00m\n\u001b[1;32m--> 577\u001b[0m parser \u001b[39m=\u001b[39m TextFileReader(filepath_or_buffer, \u001b[39m*\u001b[39;49m\u001b[39m*\u001b[39;49mkwds)\n\u001b[0;32m    579\u001b[0m \u001b[39mif\u001b[39;00m chunksize \u001b[39mor\u001b[39;00m iterator:\n\u001b[0;32m    580\u001b[0m     \u001b[39mreturn\u001b[39;00m parser\n",
      "File \u001b[1;32m~\\AppData\\Roaming\\Python\\Python311\\site-packages\\pandas\\io\\parsers\\readers.py:1407\u001b[0m, in \u001b[0;36mTextFileReader.__init__\u001b[1;34m(self, f, engine, **kwds)\u001b[0m\n\u001b[0;32m   1404\u001b[0m     \u001b[39mself\u001b[39m\u001b[39m.\u001b[39moptions[\u001b[39m\"\u001b[39m\u001b[39mhas_index_names\u001b[39m\u001b[39m\"\u001b[39m] \u001b[39m=\u001b[39m kwds[\u001b[39m\"\u001b[39m\u001b[39mhas_index_names\u001b[39m\u001b[39m\"\u001b[39m]\n\u001b[0;32m   1406\u001b[0m \u001b[39mself\u001b[39m\u001b[39m.\u001b[39mhandles: IOHandles \u001b[39m|\u001b[39m \u001b[39mNone\u001b[39;00m \u001b[39m=\u001b[39m \u001b[39mNone\u001b[39;00m\n\u001b[1;32m-> 1407\u001b[0m \u001b[39mself\u001b[39m\u001b[39m.\u001b[39m_engine \u001b[39m=\u001b[39m \u001b[39mself\u001b[39;49m\u001b[39m.\u001b[39;49m_make_engine(f, \u001b[39mself\u001b[39;49m\u001b[39m.\u001b[39;49mengine)\n",
      "File \u001b[1;32m~\\AppData\\Roaming\\Python\\Python311\\site-packages\\pandas\\io\\parsers\\readers.py:1661\u001b[0m, in \u001b[0;36mTextFileReader._make_engine\u001b[1;34m(self, f, engine)\u001b[0m\n\u001b[0;32m   1659\u001b[0m     \u001b[39mif\u001b[39;00m \u001b[39m\"\u001b[39m\u001b[39mb\u001b[39m\u001b[39m\"\u001b[39m \u001b[39mnot\u001b[39;00m \u001b[39min\u001b[39;00m mode:\n\u001b[0;32m   1660\u001b[0m         mode \u001b[39m+\u001b[39m\u001b[39m=\u001b[39m \u001b[39m\"\u001b[39m\u001b[39mb\u001b[39m\u001b[39m\"\u001b[39m\n\u001b[1;32m-> 1661\u001b[0m \u001b[39mself\u001b[39m\u001b[39m.\u001b[39mhandles \u001b[39m=\u001b[39m get_handle(\n\u001b[0;32m   1662\u001b[0m     f,\n\u001b[0;32m   1663\u001b[0m     mode,\n\u001b[0;32m   1664\u001b[0m     encoding\u001b[39m=\u001b[39;49m\u001b[39mself\u001b[39;49m\u001b[39m.\u001b[39;49moptions\u001b[39m.\u001b[39;49mget(\u001b[39m\"\u001b[39;49m\u001b[39mencoding\u001b[39;49m\u001b[39m\"\u001b[39;49m, \u001b[39mNone\u001b[39;49;00m),\n\u001b[0;32m   1665\u001b[0m     compression\u001b[39m=\u001b[39;49m\u001b[39mself\u001b[39;49m\u001b[39m.\u001b[39;49moptions\u001b[39m.\u001b[39;49mget(\u001b[39m\"\u001b[39;49m\u001b[39mcompression\u001b[39;49m\u001b[39m\"\u001b[39;49m, \u001b[39mNone\u001b[39;49;00m),\n\u001b[0;32m   1666\u001b[0m     memory_map\u001b[39m=\u001b[39;49m\u001b[39mself\u001b[39;49m\u001b[39m.\u001b[39;49moptions\u001b[39m.\u001b[39;49mget(\u001b[39m\"\u001b[39;49m\u001b[39mmemory_map\u001b[39;49m\u001b[39m\"\u001b[39;49m, \u001b[39mFalse\u001b[39;49;00m),\n\u001b[0;32m   1667\u001b[0m     is_text\u001b[39m=\u001b[39;49mis_text,\n\u001b[0;32m   1668\u001b[0m     errors\u001b[39m=\u001b[39;49m\u001b[39mself\u001b[39;49m\u001b[39m.\u001b[39;49moptions\u001b[39m.\u001b[39;49mget(\u001b[39m\"\u001b[39;49m\u001b[39mencoding_errors\u001b[39;49m\u001b[39m\"\u001b[39;49m, \u001b[39m\"\u001b[39;49m\u001b[39mstrict\u001b[39;49m\u001b[39m\"\u001b[39;49m),\n\u001b[0;32m   1669\u001b[0m     storage_options\u001b[39m=\u001b[39;49m\u001b[39mself\u001b[39;49m\u001b[39m.\u001b[39;49moptions\u001b[39m.\u001b[39;49mget(\u001b[39m\"\u001b[39;49m\u001b[39mstorage_options\u001b[39;49m\u001b[39m\"\u001b[39;49m, \u001b[39mNone\u001b[39;49;00m),\n\u001b[0;32m   1670\u001b[0m )\n\u001b[0;32m   1671\u001b[0m \u001b[39massert\u001b[39;00m \u001b[39mself\u001b[39m\u001b[39m.\u001b[39mhandles \u001b[39mis\u001b[39;00m \u001b[39mnot\u001b[39;00m \u001b[39mNone\u001b[39;00m\n\u001b[0;32m   1672\u001b[0m f \u001b[39m=\u001b[39m \u001b[39mself\u001b[39m\u001b[39m.\u001b[39mhandles\u001b[39m.\u001b[39mhandle\n",
      "File \u001b[1;32m~\\AppData\\Roaming\\Python\\Python311\\site-packages\\pandas\\io\\common.py:753\u001b[0m, in \u001b[0;36mget_handle\u001b[1;34m(path_or_buf, mode, encoding, compression, memory_map, is_text, errors, storage_options)\u001b[0m\n\u001b[0;32m    749\u001b[0m \u001b[39mif\u001b[39;00m compression \u001b[39m==\u001b[39m \u001b[39m\"\u001b[39m\u001b[39mgzip\u001b[39m\u001b[39m\"\u001b[39m:\n\u001b[0;32m    750\u001b[0m     \u001b[39mif\u001b[39;00m \u001b[39misinstance\u001b[39m(handle, \u001b[39mstr\u001b[39m):\n\u001b[0;32m    751\u001b[0m         \u001b[39m# error: Incompatible types in assignment (expression has type\u001b[39;00m\n\u001b[0;32m    752\u001b[0m         \u001b[39m# \"GzipFile\", variable has type \"Union[str, BaseBuffer]\")\u001b[39;00m\n\u001b[1;32m--> 753\u001b[0m         handle \u001b[39m=\u001b[39m gzip\u001b[39m.\u001b[39;49mGzipFile(  \u001b[39m# type: ignore[assignment]\u001b[39;49;00m\n\u001b[0;32m    754\u001b[0m             filename\u001b[39m=\u001b[39;49mhandle,\n\u001b[0;32m    755\u001b[0m             mode\u001b[39m=\u001b[39;49mioargs\u001b[39m.\u001b[39;49mmode,\n\u001b[0;32m    756\u001b[0m             \u001b[39m*\u001b[39;49m\u001b[39m*\u001b[39;49mcompression_args,\n\u001b[0;32m    757\u001b[0m         )\n\u001b[0;32m    758\u001b[0m     \u001b[39melse\u001b[39;00m:\n\u001b[0;32m    759\u001b[0m         handle \u001b[39m=\u001b[39m gzip\u001b[39m.\u001b[39mGzipFile(\n\u001b[0;32m    760\u001b[0m             \u001b[39m# No overload variant of \"GzipFile\" matches argument types\u001b[39;00m\n\u001b[0;32m    761\u001b[0m             \u001b[39m# \"Union[str, BaseBuffer]\", \"str\", \"Dict[str, Any]\"\u001b[39;00m\n\u001b[1;32m   (...)\u001b[0m\n\u001b[0;32m    764\u001b[0m             \u001b[39m*\u001b[39m\u001b[39m*\u001b[39mcompression_args,\n\u001b[0;32m    765\u001b[0m         )\n",
      "File \u001b[1;32mc:\\Users\\maria\\AppData\\Local\\Programs\\Python\\Python311\\Lib\\gzip.py:174\u001b[0m, in \u001b[0;36mGzipFile.__init__\u001b[1;34m(self, filename, mode, compresslevel, fileobj, mtime)\u001b[0m\n\u001b[0;32m    172\u001b[0m     mode \u001b[39m+\u001b[39m\u001b[39m=\u001b[39m \u001b[39m'\u001b[39m\u001b[39mb\u001b[39m\u001b[39m'\u001b[39m\n\u001b[0;32m    173\u001b[0m \u001b[39mif\u001b[39;00m fileobj \u001b[39mis\u001b[39;00m \u001b[39mNone\u001b[39;00m:\n\u001b[1;32m--> 174\u001b[0m     fileobj \u001b[39m=\u001b[39m \u001b[39mself\u001b[39m\u001b[39m.\u001b[39mmyfileobj \u001b[39m=\u001b[39m builtins\u001b[39m.\u001b[39;49mopen(filename, mode \u001b[39mor\u001b[39;49;00m \u001b[39m'\u001b[39;49m\u001b[39mrb\u001b[39;49m\u001b[39m'\u001b[39;49m)\n\u001b[0;32m    175\u001b[0m \u001b[39mif\u001b[39;00m filename \u001b[39mis\u001b[39;00m \u001b[39mNone\u001b[39;00m:\n\u001b[0;32m    176\u001b[0m     filename \u001b[39m=\u001b[39m \u001b[39mgetattr\u001b[39m(fileobj, \u001b[39m'\u001b[39m\u001b[39mname\u001b[39m\u001b[39m'\u001b[39m, \u001b[39m'\u001b[39m\u001b[39m'\u001b[39m)\n",
      "\u001b[1;31mFileNotFoundError\u001b[0m: [Errno 2] No such file or directory: '../Datasets/function3.csv.gz'"
     ]
    }
   ],
   "source": [
    "steam = pd.read_csv ('../Datasets/function3.csv.gz', compression='gzip', usecols=['user_id','item_id','sentiment_analysis','recommend','app_name'])"
   ]
  },
  {
   "cell_type": "code",
   "execution_count": 15,
   "metadata": {},
   "outputs": [
    {
     "data": {
      "text/plain": [
       "item_id\n",
       "440       3401\n",
       "730       2979\n",
       "4000      1551\n",
       "570       1402\n",
       "218620     994\n",
       "          ... \n",
       "296300       1\n",
       "350600       1\n",
       "383230       1\n",
       "261880       1\n",
       "267750       1\n",
       "Name: count, Length: 2408, dtype: int64"
      ]
     },
     "execution_count": 15,
     "metadata": {},
     "output_type": "execute_result"
    }
   ],
   "source": [
    "df = steam\n",
    "df['item_id'].value_counts()"
   ]
  },
  {
   "cell_type": "code",
   "execution_count": 20,
   "metadata": {},
   "outputs": [
    {
     "name": "stdout",
     "output_type": "stream",
     "text": [
      "Juegos recomendados similares al juego con ID: 570\n",
      "1. Juego ID: 201805, Name: Orcs Must Die! 2 - Family Ties Booster Pack\n",
      "2. Juego ID: 212800, Name: Super Crate Box\n",
      "3. Juego ID: 278970, Name: Digger Online\n",
      "4. Juego ID: 282780, Name: Stick 'Em Up 2: Paper Adventures\n",
      "5. Juego ID: 315396, Name: The Crew™ Season Pass\n"
     ]
    }
   ],
   "source": [
    "import pandas as pd\n",
    "from sklearn.metrics.pairwise import cosine_similarity\n",
    "\n",
    "def recomendacion_juego(df, input_item_id, num_recommendations=5):\n",
    "    # Filtrar el DataFrame para obtener solo las filas relacionadas con el juego de entrada\n",
    "    input_item = df[df['item_id'] == input_item_id]\n",
    "\n",
    "    if input_item.empty:\n",
    "        return \"El ID de producto no se encuentra en el conjunto de datos.\"\n",
    "\n",
    "    # Extraer el usuario y sus recomendaciones para ese juego\n",
    "    user_item_matrix = df.pivot_table(index='user_id', columns='item_id', values='recommend', fill_value=0)\n",
    "\n",
    "    # Calcular la similitud coseno entre el juego de entrada y todos los demás juegos\n",
    "    similarity_scores = cosine_similarity(user_item_matrix.T)\n",
    "\n",
    "    # Obtener las puntuaciones de similitud para el juego de entrada\n",
    "    input_item_scores = similarity_scores[input_item_id]\n",
    "\n",
    "    # Obtener los índices de los juegos más similares (excluyendo el juego de entrada)\n",
    "    similar_items_indices = input_item_scores.argsort()[:-1][-num_recommendations:]\n",
    "\n",
    "    # Obtener los IDs y nombres de los juegos más similares\n",
    "    similar_items = user_item_matrix.columns[similar_items_indices]\n",
    "\n",
    "    # Obtener nombres de juegos correspondientes a los IDs\n",
    "    game_names_df = df[df['item_id'].isin(similar_items)][['item_id', 'app_name']]\n",
    "\n",
    "    # Fusionar los DataFrames para obtener nombres correspondientes a los IDs\n",
    "    merged_df = pd.merge(pd.DataFrame(similar_items, columns=['item_id']), game_names_df, on='item_id')\n",
    "\n",
    "    # Agrupar juegos recomendados por ID\n",
    "    grouped_recommendations = merged_df.groupby(['item_id', 'app_name']).size().reset_index(name='counts')\n",
    "\n",
    "    # Imprimir las recomendaciones de juegos agrupadas por ID\n",
    "    print(f\"Juegos recomendados similares al juego con ID: {input_item_id}\")\n",
    "    for idx, (item_id, game_name, count) in enumerate(zip(grouped_recommendations['item_id'], grouped_recommendations['app_name'], grouped_recommendations['counts']), start=1):\n",
    "        print(f\"{idx}. Juego ID: {item_id}, Name: {game_name}\")\n",
    "\n",
    "# Ejemplo de uso:\n",
    "input_item_id = 570\n",
    "recomendacion_juego(df, input_item_id)\n"
   ]
  },
  {
   "cell_type": "code",
   "execution_count": 4,
   "metadata": {},
   "outputs": [
    {
     "data": {
      "text/html": [
       "<div>\n",
       "<style scoped>\n",
       "    .dataframe tbody tr th:only-of-type {\n",
       "        vertical-align: middle;\n",
       "    }\n",
       "\n",
       "    .dataframe tbody tr th {\n",
       "        vertical-align: top;\n",
       "    }\n",
       "\n",
       "    .dataframe thead th {\n",
       "        text-align: right;\n",
       "    }\n",
       "</style>\n",
       "<table border=\"1\" class=\"dataframe\">\n",
       "  <thead>\n",
       "    <tr style=\"text-align: right;\">\n",
       "      <th></th>\n",
       "      <th>app_name</th>\n",
       "      <th>user_id</th>\n",
       "      <th>item_id</th>\n",
       "      <th>recommend</th>\n",
       "      <th>sentiment_analysis</th>\n",
       "    </tr>\n",
       "  </thead>\n",
       "  <tbody>\n",
       "    <tr>\n",
       "      <th>27777</th>\n",
       "      <td>Total War™: ROME II - Emperor Edition</td>\n",
       "      <td>76561198057086148</td>\n",
       "      <td>214950</td>\n",
       "      <td>1</td>\n",
       "      <td>1</td>\n",
       "    </tr>\n",
       "    <tr>\n",
       "      <th>27778</th>\n",
       "      <td>Total War™: ROME II - Emperor Edition</td>\n",
       "      <td>76561198026040814</td>\n",
       "      <td>214950</td>\n",
       "      <td>1</td>\n",
       "      <td>0</td>\n",
       "    </tr>\n",
       "    <tr>\n",
       "      <th>27779</th>\n",
       "      <td>Total War™: ROME II - Emperor Edition</td>\n",
       "      <td>76561198088408984</td>\n",
       "      <td>214950</td>\n",
       "      <td>1</td>\n",
       "      <td>0</td>\n",
       "    </tr>\n",
       "    <tr>\n",
       "      <th>27780</th>\n",
       "      <td>Total War™: ROME II - Emperor Edition</td>\n",
       "      <td>76561198009498722</td>\n",
       "      <td>214950</td>\n",
       "      <td>0</td>\n",
       "      <td>1</td>\n",
       "    </tr>\n",
       "    <tr>\n",
       "      <th>27781</th>\n",
       "      <td>Total War™: ROME II - Emperor Edition</td>\n",
       "      <td>76561198066084140</td>\n",
       "      <td>214950</td>\n",
       "      <td>1</td>\n",
       "      <td>2</td>\n",
       "    </tr>\n",
       "    <tr>\n",
       "      <th>...</th>\n",
       "      <td>...</td>\n",
       "      <td>...</td>\n",
       "      <td>...</td>\n",
       "      <td>...</td>\n",
       "      <td>...</td>\n",
       "    </tr>\n",
       "    <tr>\n",
       "      <th>27859</th>\n",
       "      <td>Total War™: ROME II - Emperor Edition</td>\n",
       "      <td>76561198047679159</td>\n",
       "      <td>214950</td>\n",
       "      <td>1</td>\n",
       "      <td>2</td>\n",
       "    </tr>\n",
       "    <tr>\n",
       "      <th>27860</th>\n",
       "      <td>Total War™: ROME II - Emperor Edition</td>\n",
       "      <td>76561198059323447</td>\n",
       "      <td>214950</td>\n",
       "      <td>0</td>\n",
       "      <td>2</td>\n",
       "    </tr>\n",
       "    <tr>\n",
       "      <th>27861</th>\n",
       "      <td>Total War™: ROME II - Emperor Edition</td>\n",
       "      <td>jordywt</td>\n",
       "      <td>214950</td>\n",
       "      <td>1</td>\n",
       "      <td>1</td>\n",
       "    </tr>\n",
       "    <tr>\n",
       "      <th>27862</th>\n",
       "      <td>Total War™: ROME II - Emperor Edition</td>\n",
       "      <td>76561198073784330</td>\n",
       "      <td>214950</td>\n",
       "      <td>1</td>\n",
       "      <td>2</td>\n",
       "    </tr>\n",
       "    <tr>\n",
       "      <th>27863</th>\n",
       "      <td>Total War™: ROME II - Emperor Edition</td>\n",
       "      <td>36864</td>\n",
       "      <td>214950</td>\n",
       "      <td>0</td>\n",
       "      <td>0</td>\n",
       "    </tr>\n",
       "  </tbody>\n",
       "</table>\n",
       "<p>87 rows × 5 columns</p>\n",
       "</div>"
      ],
      "text/plain": [
       "                                    app_name            user_id  item_id   \n",
       "27777  Total War™: ROME II - Emperor Edition  76561198057086148   214950  \\\n",
       "27778  Total War™: ROME II - Emperor Edition  76561198026040814   214950   \n",
       "27779  Total War™: ROME II - Emperor Edition  76561198088408984   214950   \n",
       "27780  Total War™: ROME II - Emperor Edition  76561198009498722   214950   \n",
       "27781  Total War™: ROME II - Emperor Edition  76561198066084140   214950   \n",
       "...                                      ...                ...      ...   \n",
       "27859  Total War™: ROME II - Emperor Edition  76561198047679159   214950   \n",
       "27860  Total War™: ROME II - Emperor Edition  76561198059323447   214950   \n",
       "27861  Total War™: ROME II - Emperor Edition            jordywt   214950   \n",
       "27862  Total War™: ROME II - Emperor Edition  76561198073784330   214950   \n",
       "27863  Total War™: ROME II - Emperor Edition              36864   214950   \n",
       "\n",
       "       recommend  sentiment_analysis  \n",
       "27777          1                   1  \n",
       "27778          1                   0  \n",
       "27779          1                   0  \n",
       "27780          0                   1  \n",
       "27781          1                   2  \n",
       "...          ...                 ...  \n",
       "27859          1                   2  \n",
       "27860          0                   2  \n",
       "27861          1                   1  \n",
       "27862          1                   2  \n",
       "27863          0                   0  \n",
       "\n",
       "[87 rows x 5 columns]"
      ]
     },
     "execution_count": 4,
     "metadata": {},
     "output_type": "execute_result"
    }
   ],
   "source": [
    "steam[steam['item_id'] == 214950]"
   ]
  },
  {
   "cell_type": "markdown",
   "metadata": {},
   "source": [
    "Si es un sistema de recomendación user-item:\n",
    "\n",
    "def recomendacion_usuario( id de usuario ): Ingresando el id de un usuario, deberíamos recibir una lista con 5 juegos recomendados para dicho usuario."
   ]
  },
  {
   "cell_type": "code",
   "execution_count": 5,
   "metadata": {},
   "outputs": [
    {
     "name": "stderr",
     "output_type": "stream",
     "text": [
      "c:\\Users\\maria\\AppData\\Local\\Programs\\Python\\Python311\\Lib\\site-packages\\sklearn\\base.py:465: UserWarning: X does not have valid feature names, but NearestNeighbors was fitted with feature names\n",
      "  warnings.warn(\n"
     ]
    },
    {
     "name": "stdout",
     "output_type": "stream",
     "text": [
      "Recomendación para el usuario con ID: green290\n",
      "1. Team Fortress 2\n",
      "2. Counter-Strike: Global Offensive\n",
      "3. Portal 2\n",
      "4. Unturned\n",
      "5. Left 4 Dead 2\n"
     ]
    }
   ],
   "source": [
    "import pandas as pd\n",
    "from sklearn.neighbors import NearestNeighbors\n",
    "\n",
    "def recomendacion_usuario(usuario_id, steam):\n",
    "    # Filtrar el DataFrame para obtener las entradas del usuario específico\n",
    "    usuario_df = steam[steam['user_id'] == usuario_id]\n",
    "\n",
    "    if usuario_df.empty:\n",
    "        print(f\"No se encontraron datos para el usuario con ID {usuario_id}.\")\n",
    "        return\n",
    "\n",
    "    # Crear una matriz de usuario-juego para el modelo de vecinos más cercanos\n",
    "    matriz_usuario_juego = pd.pivot_table(steam, values='sentiment_analysis', index='user_id', columns='app_name', fill_value=0)\n",
    "\n",
    "    # Transponer la matriz para trabajar en el espacio de juegos\n",
    "    matriz_juego_usuario = matriz_usuario_juego.T\n",
    "\n",
    "    # Inicializar el modelo de vecinos más cercanos\n",
    "    modelo_vecinos = NearestNeighbors(metric='cosine', algorithm='brute')\n",
    "    modelo_vecinos.fit(matriz_juego_usuario)\n",
    "\n",
    "    # Encontrar vecinos más cercanos al juego específico\n",
    "    juego_interes = usuario_df['app_name'].iloc[0]\n",
    "    indice_juego = matriz_juego_usuario.index.get_loc(juego_interes)\n",
    "    distancias, indices = modelo_vecinos.kneighbors(matriz_juego_usuario.iloc[indice_juego, :].values.reshape(1, -1), n_neighbors=6)\n",
    "\n",
    "    # Imprimir la lista de juegos recomendados\n",
    "    print(f\"Recomendación para el usuario con ID: {usuario_id}\")\n",
    "    for i, indice_juego_recomendado in enumerate(indices.flatten()[1:]):  # Excluir al propio juego\n",
    "        juego_recomendado = matriz_juego_usuario.index[indice_juego_recomendado]\n",
    "        print(f\"{i + 1}. {juego_recomendado}\")\n",
    "\n",
    "# Ejemplo de uso\n",
    "recomendacion_usuario('green290', steam)\n"
   ]
  },
  {
   "cell_type": "code",
   "execution_count": null,
   "metadata": {},
   "outputs": [],
   "source": []
  }
 ],
 "metadata": {
  "kernelspec": {
   "display_name": "Python 3",
   "language": "python",
   "name": "python3"
  },
  "language_info": {
   "codemirror_mode": {
    "name": "ipython",
    "version": 3
   },
   "file_extension": ".py",
   "mimetype": "text/x-python",
   "name": "python",
   "nbconvert_exporter": "python",
   "pygments_lexer": "ipython3",
   "version": "3.11.5"
  }
 },
 "nbformat": 4,
 "nbformat_minor": 2
}
