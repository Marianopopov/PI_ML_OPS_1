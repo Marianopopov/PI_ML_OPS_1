{
 "cells": [
  {
   "cell_type": "code",
   "execution_count": 1,
   "metadata": {},
   "outputs": [],
   "source": [
    "import pandas as pd\n",
    "import numpy as np\n",
    "import gzip\n",
    "import matplotlib.pyplot as plt\n",
    "import seaborn as sns"
   ]
  },
  {
   "cell_type": "markdown",
   "metadata": {},
   "source": [
    "# CARGA DE DATOS"
   ]
  },
  {
   "cell_type": "markdown",
   "metadata": {},
   "source": [
    "* Carga del json comprimido"
   ]
  },
  {
   "cell_type": "code",
   "execution_count": 2,
   "metadata": {},
   "outputs": [],
   "source": [
    "steam_games = pd.read_json('../Datasets/steam_games.json.gz', compression='gzip', lines=True)"
   ]
  },
  {
   "cell_type": "code",
   "execution_count": 3,
   "metadata": {},
   "outputs": [],
   "source": [
    "# Creo copia del pd\n",
    "steam_games_origin = steam_games.copy()"
   ]
  },
  {
   "cell_type": "markdown",
   "metadata": {},
   "source": [
    "* Verifico Nulos"
   ]
  },
  {
   "cell_type": "code",
   "execution_count": 4,
   "metadata": {},
   "outputs": [
    {
     "data": {
      "text/plain": [
       "publisher       96362\n",
       "genres          91593\n",
       "app_name        88312\n",
       "title           90360\n",
       "url             88310\n",
       "release_date    90377\n",
       "tags            88473\n",
       "reviews_url     88312\n",
       "specs           88980\n",
       "price           89687\n",
       "early_access    88310\n",
       "id              88312\n",
       "developer       91609\n",
       "dtype: int64"
      ]
     },
     "execution_count": 4,
     "metadata": {},
     "output_type": "execute_result"
    }
   ],
   "source": [
    "steam_games.isna().sum()"
   ]
  },
  {
   "cell_type": "markdown",
   "metadata": {},
   "source": [
    "* Elimino todas las filas completamente nulas, representan un 70% de los datos"
   ]
  },
  {
   "cell_type": "code",
   "execution_count": 5,
   "metadata": {},
   "outputs": [],
   "source": [
    "steam_games = steam_games.dropna(how='all')"
   ]
  },
  {
   "cell_type": "code",
   "execution_count": 6,
   "metadata": {},
   "outputs": [
    {
     "data": {
      "text/plain": [
       "publisher       8052\n",
       "genres          3283\n",
       "app_name           2\n",
       "title           2050\n",
       "url                0\n",
       "release_date    2067\n",
       "tags             163\n",
       "reviews_url        2\n",
       "specs            670\n",
       "price           1377\n",
       "early_access       0\n",
       "id                 2\n",
       "developer       3299\n",
       "dtype: int64"
      ]
     },
     "execution_count": 6,
     "metadata": {},
     "output_type": "execute_result"
    }
   ],
   "source": [
    "steam_games.isna().sum()"
   ]
  },
  {
   "cell_type": "markdown",
   "metadata": {},
   "source": [
    "* Se encuentran 2 registros sin 'publisher', 'app_name' y 'title', procedo a borrarlos."
   ]
  },
  {
   "cell_type": "code",
   "execution_count": 7,
   "metadata": {},
   "outputs": [
    {
     "data": {
      "text/html": [
       "<div>\n",
       "<style scoped>\n",
       "    .dataframe tbody tr th:only-of-type {\n",
       "        vertical-align: middle;\n",
       "    }\n",
       "\n",
       "    .dataframe tbody tr th {\n",
       "        vertical-align: top;\n",
       "    }\n",
       "\n",
       "    .dataframe thead th {\n",
       "        text-align: right;\n",
       "    }\n",
       "</style>\n",
       "<table border=\"1\" class=\"dataframe\">\n",
       "  <thead>\n",
       "    <tr style=\"text-align: right;\">\n",
       "      <th></th>\n",
       "      <th>publisher</th>\n",
       "      <th>genres</th>\n",
       "      <th>app_name</th>\n",
       "      <th>title</th>\n",
       "      <th>url</th>\n",
       "      <th>release_date</th>\n",
       "      <th>tags</th>\n",
       "      <th>reviews_url</th>\n",
       "      <th>specs</th>\n",
       "      <th>price</th>\n",
       "      <th>early_access</th>\n",
       "      <th>id</th>\n",
       "      <th>developer</th>\n",
       "    </tr>\n",
       "  </thead>\n",
       "  <tbody>\n",
       "    <tr>\n",
       "      <th>88384</th>\n",
       "      <td>None</td>\n",
       "      <td>None</td>\n",
       "      <td>None</td>\n",
       "      <td>None</td>\n",
       "      <td>http://store.steampowered.com/</td>\n",
       "      <td>None</td>\n",
       "      <td>None</td>\n",
       "      <td>None</td>\n",
       "      <td>None</td>\n",
       "      <td>19.99</td>\n",
       "      <td>0.0</td>\n",
       "      <td>NaN</td>\n",
       "      <td>None</td>\n",
       "    </tr>\n",
       "    <tr>\n",
       "      <th>90890</th>\n",
       "      <td>None</td>\n",
       "      <td>[Action, Indie]</td>\n",
       "      <td>None</td>\n",
       "      <td>None</td>\n",
       "      <td>http://store.steampowered.com/app/317160/_/</td>\n",
       "      <td>2014-08-26</td>\n",
       "      <td>[Action, Indie]</td>\n",
       "      <td>http://steamcommunity.com/app/317160/reviews/?...</td>\n",
       "      <td>[Single-player, Game demo]</td>\n",
       "      <td>None</td>\n",
       "      <td>0.0</td>\n",
       "      <td>317160.0</td>\n",
       "      <td>None</td>\n",
       "    </tr>\n",
       "  </tbody>\n",
       "</table>\n",
       "</div>"
      ],
      "text/plain": [
       "      publisher           genres app_name title   \n",
       "88384      None             None     None  None  \\\n",
       "90890      None  [Action, Indie]     None  None   \n",
       "\n",
       "                                               url release_date   \n",
       "88384               http://store.steampowered.com/         None  \\\n",
       "90890  http://store.steampowered.com/app/317160/_/   2014-08-26   \n",
       "\n",
       "                  tags                                        reviews_url   \n",
       "88384             None                                               None  \\\n",
       "90890  [Action, Indie]  http://steamcommunity.com/app/317160/reviews/?...   \n",
       "\n",
       "                            specs  price  early_access        id developer  \n",
       "88384                        None  19.99           0.0       NaN      None  \n",
       "90890  [Single-player, Game demo]   None           0.0  317160.0      None  "
      ]
     },
     "execution_count": 7,
     "metadata": {},
     "output_type": "execute_result"
    }
   ],
   "source": [
    "steam_games[steam_games.app_name.isna()]"
   ]
  },
  {
   "cell_type": "code",
   "execution_count": 8,
   "metadata": {},
   "outputs": [],
   "source": [
    "# Elimino los registros que tienen nombres vacios y no se pueden estimar.\n",
    "\n",
    "indices_a_borrar = steam_games[steam_games.app_name.isna()].index\n",
    "steam_games.drop(index=indices_a_borrar, inplace=True)"
   ]
  },
  {
   "cell_type": "code",
   "execution_count": 9,
   "metadata": {},
   "outputs": [
    {
     "data": {
      "text/plain": [
       "publisher       8050\n",
       "genres          3282\n",
       "app_name           0\n",
       "title           2048\n",
       "url                0\n",
       "release_date    2066\n",
       "tags             162\n",
       "reviews_url        1\n",
       "specs            669\n",
       "price           1376\n",
       "early_access       0\n",
       "id                 1\n",
       "developer       3297\n",
       "dtype: int64"
      ]
     },
     "execution_count": 9,
     "metadata": {},
     "output_type": "execute_result"
    }
   ],
   "source": [
    "steam_games.isna().sum()"
   ]
  },
  {
   "cell_type": "markdown",
   "metadata": {},
   "source": [
    "- Columna 'title' y 'app_name' contienen los nombres de los juegos, por lo tanto copleto los faltantes de una con los faltantes de la otra."
   ]
  },
  {
   "cell_type": "code",
   "execution_count": 10,
   "metadata": {},
   "outputs": [],
   "source": [
    "steam_games['title'] = steam_games['app_name'].fillna(steam_games['title'])"
   ]
  },
  {
   "cell_type": "markdown",
   "metadata": {},
   "source": [
    "- Completo los generos vacios con las etiquetas de los Tags"
   ]
  },
  {
   "cell_type": "code",
   "execution_count": 11,
   "metadata": {},
   "outputs": [],
   "source": [
    "steam_games['genres'] = steam_games['tags'].fillna(steam_games['genres'])"
   ]
  },
  {
   "cell_type": "code",
   "execution_count": 12,
   "metadata": {},
   "outputs": [],
   "source": [
    "# Lleno las Tags con los generos (Quedan 138 valores nulos en ambas columnas)\n",
    "steam_games['tags'] = steam_games['genres'].fillna(steam_games['tags'])\n",
    "# Estos resultados no tienen genre, tags, publisher, specs, developer, se procesede a eliminar los registros.\n",
    "indices_drop_2 = steam_games[steam_games['tags'].isna() & steam_games['specs'].isna()].index\n",
    "steam_games.drop(index=indices_drop_2, inplace=True)"
   ]
  },
  {
   "cell_type": "code",
   "execution_count": 13,
   "metadata": {},
   "outputs": [
    {
     "data": {
      "text/plain": [
       "publisher       8043\n",
       "genres           131\n",
       "app_name           0\n",
       "title              0\n",
       "url                0\n",
       "release_date    2066\n",
       "tags             131\n",
       "reviews_url        1\n",
       "specs            662\n",
       "price           1372\n",
       "early_access       0\n",
       "id                 1\n",
       "developer       3290\n",
       "dtype: int64"
      ]
     },
     "execution_count": 13,
     "metadata": {},
     "output_type": "execute_result"
    }
   ],
   "source": [
    "steam_games.isna().sum()"
   ]
  },
  {
   "cell_type": "markdown",
   "metadata": {},
   "source": [
    "- En las url figuran los numeros de id, completo el id nulo con ese valor \n"
   ]
  },
  {
   "cell_type": "code",
   "execution_count": 14,
   "metadata": {},
   "outputs": [
    {
     "data": {
      "text/plain": [
       "'http://store.steampowered.com/app/200260'"
      ]
     },
     "execution_count": 14,
     "metadata": {},
     "output_type": "execute_result"
    }
   ],
   "source": [
    "steam_games[steam_games['id'].isna()]['url'].values[0]"
   ]
  },
  {
   "cell_type": "code",
   "execution_count": 15,
   "metadata": {},
   "outputs": [
    {
     "name": "stdout",
     "output_type": "stream",
     "text": [
      "Número extraído: 200260\n"
     ]
    }
   ],
   "source": [
    "import re\n",
    "\n",
    "url = steam_games[steam_games['id'].isna()]['url'].values[0]\n",
    "\n",
    "#Definir la expresión regular\n",
    "expresion_regular = r\"/app/(\\d+)\"\n",
    "\n",
    "#Buscar el número en la URL\n",
    "resultado = re.search(expresion_regular, url)\n",
    "\n",
    "#Verificar si se encontró el patrón y extraer el número\n",
    "if resultado:\n",
    "    numero = resultado.group(1)\n",
    "    print(\"Número extraído:\", numero)\n",
    "else:\n",
    "    print(\"No se encontró el número en la URL.\")"
   ]
  },
  {
   "cell_type": "code",
   "execution_count": 16,
   "metadata": {},
   "outputs": [],
   "source": [
    "def input_id (url):\n",
    "    #Definir la expresión regular\n",
    "    expresion_regular = r\"/app/(\\d+)\"\n",
    "\n",
    "    #Buscar el número en la URL\n",
    "    resultado = re.search(expresion_regular, url)\n",
    "\n",
    "    #Verificar si se encontró el patrón y extraer el número\n",
    "    if resultado:\n",
    "        numero = resultado.group(1)\n",
    "        return int(numero)\n",
    "    else:\n",
    "        return None "
   ]
  },
  {
   "cell_type": "code",
   "execution_count": 17,
   "metadata": {},
   "outputs": [
    {
     "data": {
      "text/plain": [
       "88310     761140\n",
       "88311     643980\n",
       "88312     670290\n",
       "88313     767400\n",
       "88314     773570\n",
       "           ...  \n",
       "120440    773640\n",
       "120441    733530\n",
       "120442    610660\n",
       "120443    658870\n",
       "120444    681550\n",
       "Name: url, Length: 32126, dtype: int64"
      ]
     },
     "execution_count": 17,
     "metadata": {},
     "output_type": "execute_result"
    }
   ],
   "source": [
    "steam_games['url'].apply(input_id)"
   ]
  },
  {
   "cell_type": "code",
   "execution_count": 18,
   "metadata": {},
   "outputs": [
    {
     "data": {
      "text/html": [
       "<div>\n",
       "<style scoped>\n",
       "    .dataframe tbody tr th:only-of-type {\n",
       "        vertical-align: middle;\n",
       "    }\n",
       "\n",
       "    .dataframe tbody tr th {\n",
       "        vertical-align: top;\n",
       "    }\n",
       "\n",
       "    .dataframe thead th {\n",
       "        text-align: right;\n",
       "    }\n",
       "</style>\n",
       "<table border=\"1\" class=\"dataframe\">\n",
       "  <thead>\n",
       "    <tr style=\"text-align: right;\">\n",
       "      <th></th>\n",
       "      <th>publisher</th>\n",
       "      <th>genres</th>\n",
       "      <th>app_name</th>\n",
       "      <th>title</th>\n",
       "      <th>url</th>\n",
       "      <th>release_date</th>\n",
       "      <th>tags</th>\n",
       "      <th>reviews_url</th>\n",
       "      <th>specs</th>\n",
       "      <th>price</th>\n",
       "      <th>early_access</th>\n",
       "      <th>id</th>\n",
       "      <th>developer</th>\n",
       "    </tr>\n",
       "  </thead>\n",
       "  <tbody>\n",
       "    <tr>\n",
       "      <th>119271</th>\n",
       "      <td>Warner Bros. Interactive Entertainment, Feral ...</td>\n",
       "      <td>[Action, Open World, Batman, Adventure, Stealt...</td>\n",
       "      <td>Batman: Arkham City - Game of the Year Edition</td>\n",
       "      <td>Batman: Arkham City - Game of the Year Edition</td>\n",
       "      <td>http://store.steampowered.com/app/200260</td>\n",
       "      <td>2012-09-07</td>\n",
       "      <td>[Action, Open World, Batman, Adventure, Stealt...</td>\n",
       "      <td>None</td>\n",
       "      <td>[Single-player, Steam Achievements, Steam Trad...</td>\n",
       "      <td>19.99</td>\n",
       "      <td>0.0</td>\n",
       "      <td>NaN</td>\n",
       "      <td>Rocksteady Studios,Feral Interactive (Mac)</td>\n",
       "    </tr>\n",
       "  </tbody>\n",
       "</table>\n",
       "</div>"
      ],
      "text/plain": [
       "                                                publisher   \n",
       "119271  Warner Bros. Interactive Entertainment, Feral ...  \\\n",
       "\n",
       "                                                   genres   \n",
       "119271  [Action, Open World, Batman, Adventure, Stealt...  \\\n",
       "\n",
       "                                              app_name   \n",
       "119271  Batman: Arkham City - Game of the Year Edition  \\\n",
       "\n",
       "                                                 title   \n",
       "119271  Batman: Arkham City - Game of the Year Edition  \\\n",
       "\n",
       "                                             url release_date   \n",
       "119271  http://store.steampowered.com/app/200260   2012-09-07  \\\n",
       "\n",
       "                                                     tags reviews_url   \n",
       "119271  [Action, Open World, Batman, Adventure, Stealt...        None  \\\n",
       "\n",
       "                                                    specs  price   \n",
       "119271  [Single-player, Steam Achievements, Steam Trad...  19.99  \\\n",
       "\n",
       "        early_access  id                                   developer  \n",
       "119271           0.0 NaN  Rocksteady Studios,Feral Interactive (Mac)  "
      ]
     },
     "execution_count": 18,
     "metadata": {},
     "output_type": "execute_result"
    }
   ],
   "source": [
    "# verifico los id Nulos\n",
    "steam_games[steam_games['id'].isna()]"
   ]
  },
  {
   "cell_type": "code",
   "execution_count": 19,
   "metadata": {},
   "outputs": [],
   "source": [
    "# Se coloca el id extraido de la url en los nulos de la columna id\n",
    "steam_games.loc[steam_games['id'].isna(), 'id'] = steam_games.loc[steam_games['id'].isna(), 'url'].apply(input_id)"
   ]
  },
  {
   "cell_type": "code",
   "execution_count": 20,
   "metadata": {},
   "outputs": [],
   "source": [
    "# Paso el id a entero\n",
    "steam_games['id'] = steam_games['id'].astype('int') "
   ]
  },
  {
   "cell_type": "code",
   "execution_count": 21,
   "metadata": {},
   "outputs": [
    {
     "data": {
      "text/plain": [
       "0"
      ]
     },
     "execution_count": 21,
     "metadata": {},
     "output_type": "execute_result"
    }
   ],
   "source": [
    "steam_games['id'].isna().sum()"
   ]
  },
  {
   "cell_type": "markdown",
   "metadata": {},
   "source": [
    "- Eliminación de duplicados"
   ]
  },
  {
   "cell_type": "code",
   "execution_count": 22,
   "metadata": {},
   "outputs": [],
   "source": [
    "steam_games.drop_duplicates(subset=['publisher', 'app_name', 'title','release_date','price', 'early_access', 'id','developer'],keep='last', inplace=True)"
   ]
  },
  {
   "cell_type": "markdown",
   "metadata": {},
   "source": [
    "- Eliminación de columnas que no voy dar uso"
   ]
  },
  {
   "cell_type": "code",
   "execution_count": 23,
   "metadata": {},
   "outputs": [],
   "source": [
    "columnas_drop = ['url', 'reviews_url']\n",
    "steam_games.drop(columnas_drop, axis=1, inplace=True)"
   ]
  },
  {
   "cell_type": "code",
   "execution_count": 24,
   "metadata": {},
   "outputs": [
    {
     "data": {
      "text/plain": [
       "publisher       8043\n",
       "genres           131\n",
       "app_name           0\n",
       "title              0\n",
       "release_date    2066\n",
       "tags             131\n",
       "specs            662\n",
       "price           1372\n",
       "early_access       0\n",
       "id                 0\n",
       "developer       3290\n",
       "dtype: int64"
      ]
     },
     "execution_count": 24,
     "metadata": {},
     "output_type": "execute_result"
    }
   ],
   "source": [
    "# verificación de nulos actualizada\n",
    "steam_games.isna().sum()"
   ]
  },
  {
   "cell_type": "markdown",
   "metadata": {},
   "source": [
    "- Completo datos publisher y developer entre si "
   ]
  },
  {
   "cell_type": "code",
   "execution_count": 25,
   "metadata": {},
   "outputs": [],
   "source": [
    "\n",
    "steam_games['developer'] = steam_games['publisher'].fillna(steam_games['developer'])"
   ]
  },
  {
   "cell_type": "code",
   "execution_count": 26,
   "metadata": {},
   "outputs": [],
   "source": [
    "#Creación categoria 'Otros' en publisher y developer que tengan valores nulos (3225 registros)\n",
    "steam_games['publisher'].fillna('otros', inplace=True)\n",
    "steam_games['developer'].fillna('otros', inplace=True)"
   ]
  },
  {
   "cell_type": "code",
   "execution_count": 27,
   "metadata": {},
   "outputs": [],
   "source": [
    "# Aplico los cambios\n",
    "steam_games['developer'] = steam_games['developer'].str.capitalize()\n",
    "steam_games['publisher'] = steam_games['publisher'].str.capitalize()\n"
   ]
  },
  {
   "cell_type": "code",
   "execution_count": 28,
   "metadata": {},
   "outputs": [],
   "source": [
    "# Eliminamos espacios en blanco\n",
    "steam_games[['developer' , 'publisher']] = steam_games[['developer', 'publisher']].apply(lambda x: x.str.strip())"
   ]
  },
  {
   "cell_type": "code",
   "execution_count": 29,
   "metadata": {},
   "outputs": [
    {
     "data": {
      "text/plain": [
       "publisher          0\n",
       "genres           131\n",
       "app_name           0\n",
       "title              0\n",
       "release_date    2066\n",
       "tags             131\n",
       "specs            662\n",
       "price           1372\n",
       "early_access       0\n",
       "id                 0\n",
       "developer          0\n",
       "dtype: int64"
      ]
     },
     "execution_count": 29,
     "metadata": {},
     "output_type": "execute_result"
    }
   ],
   "source": [
    "# Verificación de Nulos actuaizada\n",
    "steam_games.isna().sum()"
   ]
  },
  {
   "cell_type": "markdown",
   "metadata": {},
   "source": [
    "- Columna *'release_date'*, cambio a formato Date los datos y coloco datos nulos en aquellos que tienen formato incorrecto"
   ]
  },
  {
   "cell_type": "code",
   "execution_count": 30,
   "metadata": {},
   "outputs": [],
   "source": [
    "steam_games['release_date'] = pd.to_datetime(steam_games['release_date'], format='%Y-%m-%d', errors='coerce')"
   ]
  },
  {
   "cell_type": "code",
   "execution_count": 31,
   "metadata": {},
   "outputs": [
    {
     "data": {
      "text/html": [
       "<div>\n",
       "<style scoped>\n",
       "    .dataframe tbody tr th:only-of-type {\n",
       "        vertical-align: middle;\n",
       "    }\n",
       "\n",
       "    .dataframe tbody tr th {\n",
       "        vertical-align: top;\n",
       "    }\n",
       "\n",
       "    .dataframe thead th {\n",
       "        text-align: right;\n",
       "    }\n",
       "</style>\n",
       "<table border=\"1\" class=\"dataframe\">\n",
       "  <thead>\n",
       "    <tr style=\"text-align: right;\">\n",
       "      <th></th>\n",
       "      <th>publisher</th>\n",
       "      <th>genres</th>\n",
       "      <th>app_name</th>\n",
       "      <th>title</th>\n",
       "      <th>release_date</th>\n",
       "      <th>tags</th>\n",
       "      <th>specs</th>\n",
       "      <th>price</th>\n",
       "      <th>early_access</th>\n",
       "      <th>id</th>\n",
       "      <th>developer</th>\n",
       "    </tr>\n",
       "  </thead>\n",
       "  <tbody>\n",
       "    <tr>\n",
       "      <th>88310</th>\n",
       "      <td>Kotoshiro</td>\n",
       "      <td>[Strategy, Action, Indie, Casual, Simulation]</td>\n",
       "      <td>Lost Summoner Kitty</td>\n",
       "      <td>Lost Summoner Kitty</td>\n",
       "      <td>2018-01-04</td>\n",
       "      <td>[Strategy, Action, Indie, Casual, Simulation]</td>\n",
       "      <td>[Single-player]</td>\n",
       "      <td>4.99</td>\n",
       "      <td>0.0</td>\n",
       "      <td>761140</td>\n",
       "      <td>Kotoshiro</td>\n",
       "    </tr>\n",
       "    <tr>\n",
       "      <th>88311</th>\n",
       "      <td>Making fun, inc.</td>\n",
       "      <td>[Free to Play, Strategy, Indie, RPG, Card Game...</td>\n",
       "      <td>Ironbound</td>\n",
       "      <td>Ironbound</td>\n",
       "      <td>2018-01-04</td>\n",
       "      <td>[Free to Play, Strategy, Indie, RPG, Card Game...</td>\n",
       "      <td>[Single-player, Multi-player, Online Multi-Pla...</td>\n",
       "      <td>Free To Play</td>\n",
       "      <td>0.0</td>\n",
       "      <td>643980</td>\n",
       "      <td>Making fun, inc.</td>\n",
       "    </tr>\n",
       "    <tr>\n",
       "      <th>88312</th>\n",
       "      <td>Poolians.com</td>\n",
       "      <td>[Free to Play, Simulation, Sports, Casual, Ind...</td>\n",
       "      <td>Real Pool 3D - Poolians</td>\n",
       "      <td>Real Pool 3D - Poolians</td>\n",
       "      <td>2017-07-24</td>\n",
       "      <td>[Free to Play, Simulation, Sports, Casual, Ind...</td>\n",
       "      <td>[Single-player, Multi-player, Online Multi-Pla...</td>\n",
       "      <td>Free to Play</td>\n",
       "      <td>0.0</td>\n",
       "      <td>670290</td>\n",
       "      <td>Poolians.com</td>\n",
       "    </tr>\n",
       "    <tr>\n",
       "      <th>88313</th>\n",
       "      <td>彼岸领域</td>\n",
       "      <td>[Action, Adventure, Casual]</td>\n",
       "      <td>弹炸人2222</td>\n",
       "      <td>弹炸人2222</td>\n",
       "      <td>2017-12-07</td>\n",
       "      <td>[Action, Adventure, Casual]</td>\n",
       "      <td>[Single-player]</td>\n",
       "      <td>0.99</td>\n",
       "      <td>0.0</td>\n",
       "      <td>767400</td>\n",
       "      <td>彼岸领域</td>\n",
       "    </tr>\n",
       "    <tr>\n",
       "      <th>88314</th>\n",
       "      <td>Otros</td>\n",
       "      <td>[Action, Indie, Casual, Sports]</td>\n",
       "      <td>Log Challenge</td>\n",
       "      <td>Log Challenge</td>\n",
       "      <td>NaT</td>\n",
       "      <td>[Action, Indie, Casual, Sports]</td>\n",
       "      <td>[Single-player, Full controller support, HTC V...</td>\n",
       "      <td>2.99</td>\n",
       "      <td>0.0</td>\n",
       "      <td>773570</td>\n",
       "      <td>Otros</td>\n",
       "    </tr>\n",
       "    <tr>\n",
       "      <th>...</th>\n",
       "      <td>...</td>\n",
       "      <td>...</td>\n",
       "      <td>...</td>\n",
       "      <td>...</td>\n",
       "      <td>...</td>\n",
       "      <td>...</td>\n",
       "      <td>...</td>\n",
       "      <td>...</td>\n",
       "      <td>...</td>\n",
       "      <td>...</td>\n",
       "      <td>...</td>\n",
       "    </tr>\n",
       "    <tr>\n",
       "      <th>120440</th>\n",
       "      <td>Ghost_rus games</td>\n",
       "      <td>[Strategy, Indie, Casual, Simulation]</td>\n",
       "      <td>Colony On Mars</td>\n",
       "      <td>Colony On Mars</td>\n",
       "      <td>2018-01-04</td>\n",
       "      <td>[Strategy, Indie, Casual, Simulation]</td>\n",
       "      <td>[Single-player, Steam Achievements]</td>\n",
       "      <td>1.99</td>\n",
       "      <td>0.0</td>\n",
       "      <td>773640</td>\n",
       "      <td>Ghost_rus games</td>\n",
       "    </tr>\n",
       "    <tr>\n",
       "      <th>120441</th>\n",
       "      <td>Sacada</td>\n",
       "      <td>[Strategy, Indie, Casual]</td>\n",
       "      <td>LOGistICAL: South Africa</td>\n",
       "      <td>LOGistICAL: South Africa</td>\n",
       "      <td>2018-01-04</td>\n",
       "      <td>[Strategy, Indie, Casual]</td>\n",
       "      <td>[Single-player, Steam Achievements, Steam Clou...</td>\n",
       "      <td>4.99</td>\n",
       "      <td>0.0</td>\n",
       "      <td>733530</td>\n",
       "      <td>Sacada</td>\n",
       "    </tr>\n",
       "    <tr>\n",
       "      <th>120442</th>\n",
       "      <td>Laush studio</td>\n",
       "      <td>[Indie, Simulation, Racing]</td>\n",
       "      <td>Russian Roads</td>\n",
       "      <td>Russian Roads</td>\n",
       "      <td>2018-01-04</td>\n",
       "      <td>[Indie, Simulation, Racing]</td>\n",
       "      <td>[Single-player, Steam Achievements, Steam Trad...</td>\n",
       "      <td>1.99</td>\n",
       "      <td>0.0</td>\n",
       "      <td>610660</td>\n",
       "      <td>Laush studio</td>\n",
       "    </tr>\n",
       "    <tr>\n",
       "      <th>120443</th>\n",
       "      <td>Sixnails</td>\n",
       "      <td>[Indie, Casual, Puzzle, Singleplayer, Atmosphe...</td>\n",
       "      <td>EXIT 2 - Directions</td>\n",
       "      <td>EXIT 2 - Directions</td>\n",
       "      <td>2017-09-02</td>\n",
       "      <td>[Indie, Casual, Puzzle, Singleplayer, Atmosphe...</td>\n",
       "      <td>[Single-player, Steam Achievements, Steam Cloud]</td>\n",
       "      <td>4.99</td>\n",
       "      <td>0.0</td>\n",
       "      <td>658870</td>\n",
       "      <td>Sixnails</td>\n",
       "    </tr>\n",
       "    <tr>\n",
       "      <th>120444</th>\n",
       "      <td>Otros</td>\n",
       "      <td>[Early Access, Adventure, Indie, Action, Simul...</td>\n",
       "      <td>Maze Run VR</td>\n",
       "      <td>Maze Run VR</td>\n",
       "      <td>NaT</td>\n",
       "      <td>[Early Access, Adventure, Indie, Action, Simul...</td>\n",
       "      <td>[Single-player, Stats, Steam Leaderboards, HTC...</td>\n",
       "      <td>4.99</td>\n",
       "      <td>1.0</td>\n",
       "      <td>681550</td>\n",
       "      <td>Otros</td>\n",
       "    </tr>\n",
       "  </tbody>\n",
       "</table>\n",
       "<p>32124 rows × 11 columns</p>\n",
       "</div>"
      ],
      "text/plain": [
       "               publisher                                             genres   \n",
       "88310          Kotoshiro      [Strategy, Action, Indie, Casual, Simulation]  \\\n",
       "88311   Making fun, inc.  [Free to Play, Strategy, Indie, RPG, Card Game...   \n",
       "88312       Poolians.com  [Free to Play, Simulation, Sports, Casual, Ind...   \n",
       "88313               彼岸领域                        [Action, Adventure, Casual]   \n",
       "88314              Otros                    [Action, Indie, Casual, Sports]   \n",
       "...                  ...                                                ...   \n",
       "120440   Ghost_rus games              [Strategy, Indie, Casual, Simulation]   \n",
       "120441            Sacada                          [Strategy, Indie, Casual]   \n",
       "120442      Laush studio                        [Indie, Simulation, Racing]   \n",
       "120443          Sixnails  [Indie, Casual, Puzzle, Singleplayer, Atmosphe...   \n",
       "120444             Otros  [Early Access, Adventure, Indie, Action, Simul...   \n",
       "\n",
       "                        app_name                     title release_date   \n",
       "88310        Lost Summoner Kitty       Lost Summoner Kitty   2018-01-04  \\\n",
       "88311                  Ironbound                 Ironbound   2018-01-04   \n",
       "88312    Real Pool 3D - Poolians   Real Pool 3D - Poolians   2017-07-24   \n",
       "88313                    弹炸人2222                   弹炸人2222   2017-12-07   \n",
       "88314              Log Challenge             Log Challenge          NaT   \n",
       "...                          ...                       ...          ...   \n",
       "120440            Colony On Mars            Colony On Mars   2018-01-04   \n",
       "120441  LOGistICAL: South Africa  LOGistICAL: South Africa   2018-01-04   \n",
       "120442             Russian Roads             Russian Roads   2018-01-04   \n",
       "120443       EXIT 2 - Directions       EXIT 2 - Directions   2017-09-02   \n",
       "120444               Maze Run VR               Maze Run VR          NaT   \n",
       "\n",
       "                                                     tags   \n",
       "88310       [Strategy, Action, Indie, Casual, Simulation]  \\\n",
       "88311   [Free to Play, Strategy, Indie, RPG, Card Game...   \n",
       "88312   [Free to Play, Simulation, Sports, Casual, Ind...   \n",
       "88313                         [Action, Adventure, Casual]   \n",
       "88314                     [Action, Indie, Casual, Sports]   \n",
       "...                                                   ...   \n",
       "120440              [Strategy, Indie, Casual, Simulation]   \n",
       "120441                          [Strategy, Indie, Casual]   \n",
       "120442                        [Indie, Simulation, Racing]   \n",
       "120443  [Indie, Casual, Puzzle, Singleplayer, Atmosphe...   \n",
       "120444  [Early Access, Adventure, Indie, Action, Simul...   \n",
       "\n",
       "                                                    specs         price   \n",
       "88310                                     [Single-player]          4.99  \\\n",
       "88311   [Single-player, Multi-player, Online Multi-Pla...  Free To Play   \n",
       "88312   [Single-player, Multi-player, Online Multi-Pla...  Free to Play   \n",
       "88313                                     [Single-player]          0.99   \n",
       "88314   [Single-player, Full controller support, HTC V...          2.99   \n",
       "...                                                   ...           ...   \n",
       "120440                [Single-player, Steam Achievements]          1.99   \n",
       "120441  [Single-player, Steam Achievements, Steam Clou...          4.99   \n",
       "120442  [Single-player, Steam Achievements, Steam Trad...          1.99   \n",
       "120443   [Single-player, Steam Achievements, Steam Cloud]          4.99   \n",
       "120444  [Single-player, Stats, Steam Leaderboards, HTC...          4.99   \n",
       "\n",
       "        early_access      id         developer  \n",
       "88310            0.0  761140         Kotoshiro  \n",
       "88311            0.0  643980  Making fun, inc.  \n",
       "88312            0.0  670290      Poolians.com  \n",
       "88313            0.0  767400              彼岸领域  \n",
       "88314            0.0  773570             Otros  \n",
       "...              ...     ...               ...  \n",
       "120440           0.0  773640   Ghost_rus games  \n",
       "120441           0.0  733530            Sacada  \n",
       "120442           0.0  610660      Laush studio  \n",
       "120443           0.0  658870          Sixnails  \n",
       "120444           1.0  681550             Otros  \n",
       "\n",
       "[32124 rows x 11 columns]"
      ]
     },
     "execution_count": 31,
     "metadata": {},
     "output_type": "execute_result"
    }
   ],
   "source": [
    "steam_games"
   ]
  },
  {
   "cell_type": "code",
   "execution_count": 32,
   "metadata": {},
   "outputs": [],
   "source": [
    "# Creo columna 'release_date_unix' la cual contiene los valores de tiempo Unix correspondientes a las fechas de lanzamiento en la columna original 'release_date'. \n",
    "\n",
    "steam_games['release_date_unix'] = steam_games['release_date'].apply(lambda x: int(x.timestamp()) if not pd.isna(x) else None)"
   ]
  },
  {
   "cell_type": "markdown",
   "metadata": {},
   "source": [
    "- Ante la presencia de 2351 valores nulos en la columna 'release_date' y considerando su importancia para el modelo futuro, <br>\n",
    " se toma la decisión de utilizar el algoritmo de imputación KNN (K-Nearest Neighbors) <br>\n",
    " para estimar y llenar estos valores faltantes de manera más precisa."
   ]
  },
  {
   "cell_type": "code",
   "execution_count": 33,
   "metadata": {},
   "outputs": [],
   "source": [
    "# Utilizo el MODELO KNN para estimar valores faltantes y luego imputarlos en la columna 'release_date_unix'\n",
    "\n",
    "from sklearn.impute import KNNImputer\n",
    "imputador_knn = KNNImputer(n_neighbors=5)\n",
    "steam_games['release_date_unix'] = imputador_knn.fit_transform(steam_games[['release_date_unix']])"
   ]
  },
  {
   "cell_type": "code",
   "execution_count": 34,
   "metadata": {},
   "outputs": [],
   "source": [
    "# Imputo valores faltantes en 'release_date' con valores estimados en columna 'release_date_unix'\n",
    "steam_games['release_date'] = steam_games['release_date'].fillna(steam_games['release_date_unix'])"
   ]
  },
  {
   "cell_type": "code",
   "execution_count": 35,
   "metadata": {},
   "outputs": [
    {
     "data": {
      "text/plain": [
       "0"
      ]
     },
     "execution_count": 35,
     "metadata": {},
     "output_type": "execute_result"
    }
   ],
   "source": [
    "# Verificación nulos actualizada\n",
    "steam_games['release_date'].isna().sum()"
   ]
  },
  {
   "cell_type": "code",
   "execution_count": 36,
   "metadata": {},
   "outputs": [],
   "source": [
    "steam_games['release_date'] = pd.to_datetime(steam_games['release_date_unix'], unit='s')"
   ]
  },
  {
   "cell_type": "code",
   "execution_count": 37,
   "metadata": {},
   "outputs": [],
   "source": [
    "# Se procede a extraer únicamente el año de la columna 'release_date' y lo guardo en una nueva columna 'year'\n",
    "steam_games['year']=steam_games['release_date'].dt.year"
   ]
  },
  {
   "cell_type": "code",
   "execution_count": 38,
   "metadata": {},
   "outputs": [
    {
     "data": {
      "text/plain": [
       "publisher               0\n",
       "genres                131\n",
       "app_name                0\n",
       "title                   0\n",
       "release_date            0\n",
       "tags                  131\n",
       "specs                 662\n",
       "price                1372\n",
       "early_access            0\n",
       "id                      0\n",
       "developer               0\n",
       "release_date_unix       0\n",
       "year                    0\n",
       "dtype: int64"
      ]
     },
     "execution_count": 38,
     "metadata": {},
     "output_type": "execute_result"
    }
   ],
   "source": [
    "steam_games.isna().sum()"
   ]
  },
  {
   "cell_type": "code",
   "execution_count": 39,
   "metadata": {},
   "outputs": [],
   "source": [
    "# Se eliminan las filas que contienen valores nulos.\n",
    "# Se identifican y eliminan las columnas que no aportan relevancia al modelo.\n",
    "\n",
    "# Código para la limpieza de datos:\n",
    "steam_games_cleaned = steam_games.dropna()  \n",
    "columnas_no_relevantes = ['publisher', 'title', 'tags', 'specs', 'price', 'early_access', 'developer', 'release_date_unix', 'release_date']  \n",
    "steam_games_cleaned = steam_games_cleaned.drop(columnas_no_relevantes, axis=1)\n"
   ]
  },
  {
   "cell_type": "code",
   "execution_count": 40,
   "metadata": {},
   "outputs": [],
   "source": [
    "steam_games_cleaned.to_csv('../Datasets/steam_games_cleaned.csv',index=False)\n",
    "\n",
    "with gzip.open('../Datasets/steam_games_cleaned.csv.gz', 'wb') as f:\n",
    "    steam_games_cleaned.to_csv(f, index=False, encoding='utf-8')"
   ]
  },
  {
   "cell_type": "code",
   "execution_count": 41,
   "metadata": {},
   "outputs": [
    {
     "data": {
      "text/html": [
       "<div>\n",
       "<style scoped>\n",
       "    .dataframe tbody tr th:only-of-type {\n",
       "        vertical-align: middle;\n",
       "    }\n",
       "\n",
       "    .dataframe tbody tr th {\n",
       "        vertical-align: top;\n",
       "    }\n",
       "\n",
       "    .dataframe thead th {\n",
       "        text-align: right;\n",
       "    }\n",
       "</style>\n",
       "<table border=\"1\" class=\"dataframe\">\n",
       "  <thead>\n",
       "    <tr style=\"text-align: right;\">\n",
       "      <th></th>\n",
       "      <th>genres</th>\n",
       "      <th>app_name</th>\n",
       "      <th>id</th>\n",
       "      <th>year</th>\n",
       "    </tr>\n",
       "  </thead>\n",
       "  <tbody>\n",
       "    <tr>\n",
       "      <th>88310</th>\n",
       "      <td>[Strategy, Action, Indie, Casual, Simulation]</td>\n",
       "      <td>Lost Summoner Kitty</td>\n",
       "      <td>761140</td>\n",
       "      <td>2018</td>\n",
       "    </tr>\n",
       "    <tr>\n",
       "      <th>88311</th>\n",
       "      <td>[Free to Play, Strategy, Indie, RPG, Card Game...</td>\n",
       "      <td>Ironbound</td>\n",
       "      <td>643980</td>\n",
       "      <td>2018</td>\n",
       "    </tr>\n",
       "    <tr>\n",
       "      <th>88312</th>\n",
       "      <td>[Free to Play, Simulation, Sports, Casual, Ind...</td>\n",
       "      <td>Real Pool 3D - Poolians</td>\n",
       "      <td>670290</td>\n",
       "      <td>2017</td>\n",
       "    </tr>\n",
       "    <tr>\n",
       "      <th>88313</th>\n",
       "      <td>[Action, Adventure, Casual]</td>\n",
       "      <td>弹炸人2222</td>\n",
       "      <td>767400</td>\n",
       "      <td>2017</td>\n",
       "    </tr>\n",
       "    <tr>\n",
       "      <th>88314</th>\n",
       "      <td>[Action, Indie, Casual, Sports]</td>\n",
       "      <td>Log Challenge</td>\n",
       "      <td>773570</td>\n",
       "      <td>2015</td>\n",
       "    </tr>\n",
       "    <tr>\n",
       "      <th>...</th>\n",
       "      <td>...</td>\n",
       "      <td>...</td>\n",
       "      <td>...</td>\n",
       "      <td>...</td>\n",
       "    </tr>\n",
       "    <tr>\n",
       "      <th>120440</th>\n",
       "      <td>[Strategy, Indie, Casual, Simulation]</td>\n",
       "      <td>Colony On Mars</td>\n",
       "      <td>773640</td>\n",
       "      <td>2018</td>\n",
       "    </tr>\n",
       "    <tr>\n",
       "      <th>120441</th>\n",
       "      <td>[Strategy, Indie, Casual]</td>\n",
       "      <td>LOGistICAL: South Africa</td>\n",
       "      <td>733530</td>\n",
       "      <td>2018</td>\n",
       "    </tr>\n",
       "    <tr>\n",
       "      <th>120442</th>\n",
       "      <td>[Indie, Simulation, Racing]</td>\n",
       "      <td>Russian Roads</td>\n",
       "      <td>610660</td>\n",
       "      <td>2018</td>\n",
       "    </tr>\n",
       "    <tr>\n",
       "      <th>120443</th>\n",
       "      <td>[Indie, Casual, Puzzle, Singleplayer, Atmosphe...</td>\n",
       "      <td>EXIT 2 - Directions</td>\n",
       "      <td>658870</td>\n",
       "      <td>2017</td>\n",
       "    </tr>\n",
       "    <tr>\n",
       "      <th>120444</th>\n",
       "      <td>[Early Access, Adventure, Indie, Action, Simul...</td>\n",
       "      <td>Maze Run VR</td>\n",
       "      <td>681550</td>\n",
       "      <td>2015</td>\n",
       "    </tr>\n",
       "  </tbody>\n",
       "</table>\n",
       "<p>29986 rows × 4 columns</p>\n",
       "</div>"
      ],
      "text/plain": [
       "                                                   genres   \n",
       "88310       [Strategy, Action, Indie, Casual, Simulation]  \\\n",
       "88311   [Free to Play, Strategy, Indie, RPG, Card Game...   \n",
       "88312   [Free to Play, Simulation, Sports, Casual, Ind...   \n",
       "88313                         [Action, Adventure, Casual]   \n",
       "88314                     [Action, Indie, Casual, Sports]   \n",
       "...                                                   ...   \n",
       "120440              [Strategy, Indie, Casual, Simulation]   \n",
       "120441                          [Strategy, Indie, Casual]   \n",
       "120442                        [Indie, Simulation, Racing]   \n",
       "120443  [Indie, Casual, Puzzle, Singleplayer, Atmosphe...   \n",
       "120444  [Early Access, Adventure, Indie, Action, Simul...   \n",
       "\n",
       "                        app_name      id  year  \n",
       "88310        Lost Summoner Kitty  761140  2018  \n",
       "88311                  Ironbound  643980  2018  \n",
       "88312    Real Pool 3D - Poolians  670290  2017  \n",
       "88313                    弹炸人2222  767400  2017  \n",
       "88314              Log Challenge  773570  2015  \n",
       "...                          ...     ...   ...  \n",
       "120440            Colony On Mars  773640  2018  \n",
       "120441  LOGistICAL: South Africa  733530  2018  \n",
       "120442             Russian Roads  610660  2018  \n",
       "120443       EXIT 2 - Directions  658870  2017  \n",
       "120444               Maze Run VR  681550  2015  \n",
       "\n",
       "[29986 rows x 4 columns]"
      ]
     },
     "execution_count": 41,
     "metadata": {},
     "output_type": "execute_result"
    }
   ],
   "source": [
    "steam_games_cleaned"
   ]
  }
 ],
 "metadata": {
  "kernelspec": {
   "display_name": "Python 3",
   "language": "python",
   "name": "python3"
  },
  "language_info": {
   "codemirror_mode": {
    "name": "ipython",
    "version": 3
   },
   "file_extension": ".py",
   "mimetype": "text/x-python",
   "name": "python",
   "nbconvert_exporter": "python",
   "pygments_lexer": "ipython3",
   "version": "3.11.5"
  }
 },
 "nbformat": 4,
 "nbformat_minor": 2
}
