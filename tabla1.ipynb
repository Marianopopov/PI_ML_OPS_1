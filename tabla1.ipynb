{
 "cells": [
  {
   "cell_type": "code",
   "execution_count": 1,
   "metadata": {},
   "outputs": [],
   "source": [
    "import pandas as pd\n",
    "import numpy as np"
   ]
  },
  {
   "cell_type": "code",
   "execution_count": 8,
   "metadata": {},
   "outputs": [],
   "source": [
    "user_item = pd.read_csv('./Datasets/user_items_cleaned.csv.gz')\n",
    "steam_games = pd.read_csv ('./Datasets/steam_games_cleaned.csv.gz')"
   ]
  },
  {
   "cell_type": "code",
   "execution_count": 9,
   "metadata": {},
   "outputs": [],
   "source": [
    "merged_df = pd.merge(user_item, steam_games, left_on='item_name', right_on='app_name', how='inner')\n"
   ]
  },
  {
   "cell_type": "code",
   "execution_count": 11,
   "metadata": {},
   "outputs": [],
   "source": [
    "df = merged_df[['year','playtime_forever','user_id','genres']]"
   ]
  },
  {
   "cell_type": "code",
   "execution_count": 12,
   "metadata": {},
   "outputs": [],
   "source": [
    "df = df[df['playtime_forever']> 0]"
   ]
  },
  {
   "cell_type": "code",
   "execution_count": 14,
   "metadata": {},
   "outputs": [],
   "source": [
    "df['playtime_forever']=df['playtime_forever'] / 60"
   ]
  },
  {
   "cell_type": "code",
   "execution_count": 15,
   "metadata": {},
   "outputs": [
    {
     "data": {
      "text/html": [
       "<div>\n",
       "<style scoped>\n",
       "    .dataframe tbody tr th:only-of-type {\n",
       "        vertical-align: middle;\n",
       "    }\n",
       "\n",
       "    .dataframe tbody tr th {\n",
       "        vertical-align: top;\n",
       "    }\n",
       "\n",
       "    .dataframe thead th {\n",
       "        text-align: right;\n",
       "    }\n",
       "</style>\n",
       "<table border=\"1\" class=\"dataframe\">\n",
       "  <thead>\n",
       "    <tr style=\"text-align: right;\">\n",
       "      <th></th>\n",
       "      <th>year</th>\n",
       "      <th>playtime_forever</th>\n",
       "      <th>user_id</th>\n",
       "      <th>genres</th>\n",
       "    </tr>\n",
       "  </thead>\n",
       "  <tbody>\n",
       "    <tr>\n",
       "      <th>0</th>\n",
       "      <td>2000</td>\n",
       "      <td>0.100000</td>\n",
       "      <td>76561197970982479</td>\n",
       "      <td>['Action', 'FPS', 'Multiplayer', 'Shooter', 'C...</td>\n",
       "    </tr>\n",
       "    <tr>\n",
       "      <th>3</th>\n",
       "      <td>2000</td>\n",
       "      <td>1.550000</td>\n",
       "      <td>doctr</td>\n",
       "      <td>['Action', 'FPS', 'Multiplayer', 'Shooter', 'C...</td>\n",
       "    </tr>\n",
       "    <tr>\n",
       "      <th>4</th>\n",
       "      <td>2000</td>\n",
       "      <td>1.800000</td>\n",
       "      <td>corrupted_soul</td>\n",
       "      <td>['Action', 'FPS', 'Multiplayer', 'Shooter', 'C...</td>\n",
       "    </tr>\n",
       "    <tr>\n",
       "      <th>7</th>\n",
       "      <td>2000</td>\n",
       "      <td>5.466667</td>\n",
       "      <td>WeiEDKrSat</td>\n",
       "      <td>['Action', 'FPS', 'Multiplayer', 'Shooter', 'C...</td>\n",
       "    </tr>\n",
       "    <tr>\n",
       "      <th>8</th>\n",
       "      <td>2000</td>\n",
       "      <td>104.583333</td>\n",
       "      <td>death-hunter</td>\n",
       "      <td>['Action', 'FPS', 'Multiplayer', 'Shooter', 'C...</td>\n",
       "    </tr>\n",
       "    <tr>\n",
       "      <th>...</th>\n",
       "      <td>...</td>\n",
       "      <td>...</td>\n",
       "      <td>...</td>\n",
       "      <td>...</td>\n",
       "    </tr>\n",
       "    <tr>\n",
       "      <th>3180565</th>\n",
       "      <td>2016</td>\n",
       "      <td>0.216667</td>\n",
       "      <td>thekushcorner</td>\n",
       "      <td>['RPG', 'Indie', 'Adventure', 'Procedural Gene...</td>\n",
       "    </tr>\n",
       "    <tr>\n",
       "      <th>3180566</th>\n",
       "      <td>2016</td>\n",
       "      <td>0.100000</td>\n",
       "      <td>peter1023199</td>\n",
       "      <td>['Simulation', 'Racing', 'Sports']</td>\n",
       "    </tr>\n",
       "    <tr>\n",
       "      <th>3180567</th>\n",
       "      <td>2016</td>\n",
       "      <td>0.766667</td>\n",
       "      <td>76561198071808318</td>\n",
       "      <td>['Indie', 'Adventure', 'Cute', 'Puzzle-Platfor...</td>\n",
       "    </tr>\n",
       "    <tr>\n",
       "      <th>3180568</th>\n",
       "      <td>2016</td>\n",
       "      <td>2.733333</td>\n",
       "      <td>76561198107283457</td>\n",
       "      <td>['Indie', 'Casual', 'Action', 'Simulation']</td>\n",
       "    </tr>\n",
       "    <tr>\n",
       "      <th>3180569</th>\n",
       "      <td>2015</td>\n",
       "      <td>0.116667</td>\n",
       "      <td>danebuchanan</td>\n",
       "      <td>['Casual', 'Simulation', 'Psychological Horror...</td>\n",
       "    </tr>\n",
       "  </tbody>\n",
       "</table>\n",
       "<p>2185813 rows × 4 columns</p>\n",
       "</div>"
      ],
      "text/plain": [
       "         year  playtime_forever            user_id   \n",
       "0        2000          0.100000  76561197970982479  \\\n",
       "3        2000          1.550000              doctr   \n",
       "4        2000          1.800000     corrupted_soul   \n",
       "7        2000          5.466667         WeiEDKrSat   \n",
       "8        2000        104.583333       death-hunter   \n",
       "...       ...               ...                ...   \n",
       "3180565  2016          0.216667      thekushcorner   \n",
       "3180566  2016          0.100000       peter1023199   \n",
       "3180567  2016          0.766667  76561198071808318   \n",
       "3180568  2016          2.733333  76561198107283457   \n",
       "3180569  2015          0.116667       danebuchanan   \n",
       "\n",
       "                                                    genres  \n",
       "0        ['Action', 'FPS', 'Multiplayer', 'Shooter', 'C...  \n",
       "3        ['Action', 'FPS', 'Multiplayer', 'Shooter', 'C...  \n",
       "4        ['Action', 'FPS', 'Multiplayer', 'Shooter', 'C...  \n",
       "7        ['Action', 'FPS', 'Multiplayer', 'Shooter', 'C...  \n",
       "8        ['Action', 'FPS', 'Multiplayer', 'Shooter', 'C...  \n",
       "...                                                    ...  \n",
       "3180565  ['RPG', 'Indie', 'Adventure', 'Procedural Gene...  \n",
       "3180566                 ['Simulation', 'Racing', 'Sports']  \n",
       "3180567  ['Indie', 'Adventure', 'Cute', 'Puzzle-Platfor...  \n",
       "3180568        ['Indie', 'Casual', 'Action', 'Simulation']  \n",
       "3180569  ['Casual', 'Simulation', 'Psychological Horror...  \n",
       "\n",
       "[2185813 rows x 4 columns]"
      ]
     },
     "execution_count": 15,
     "metadata": {},
     "output_type": "execute_result"
    }
   ],
   "source": [
    "df"
   ]
  },
  {
   "cell_type": "code",
   "execution_count": 25,
   "metadata": {},
   "outputs": [
    {
     "data": {
      "text/plain": [
       "{'playtime_forever': {2004: 685.0333333333333,\n",
       "  2005: 0.016666666666666666,\n",
       "  2006: 10713.3,\n",
       "  2007: 1.3333333333333335,\n",
       "  2008: 108.46666666666667,\n",
       "  2009: 37.88333333333333,\n",
       "  2010: 0.05,\n",
       "  2011: 270.3833333333333,\n",
       "  2012: 42.233333333333334,\n",
       "  2014: 5.366666666666667,\n",
       "  2015: 32.61666666666667,\n",
       "  2017: 19.383333333333333}}"
      ]
     },
     "execution_count": 25,
     "metadata": {},
     "output_type": "execute_result"
    }
   ],
   "source": [
    "df[['playtime_forever','year']][df['user_id']=='wolop'].groupby(['year']).sum(['playtime_forever']).to_dict()"
   ]
  },
  {
   "cell_type": "markdown",
   "metadata": {},
   "source": [
    "# TABLA 1  (Creo tabla genero con usuario que mas jugo)"
   ]
  },
  {
   "cell_type": "code",
   "execution_count": 19,
   "metadata": {},
   "outputs": [],
   "source": [
    "lista_de_generos = df['genres'].explode().unique()"
   ]
  },
  {
   "cell_type": "code",
   "execution_count": 20,
   "metadata": {},
   "outputs": [],
   "source": [
    "tabla_1 = pd.DataFrame(index=lista_de_generos,columns=['nombre'])"
   ]
  },
  {
   "cell_type": "code",
   "execution_count": 21,
   "metadata": {},
   "outputs": [],
   "source": [
    "tabla_1 = tabla_1.reset_index()"
   ]
  },
  {
   "cell_type": "code",
   "execution_count": 22,
   "metadata": {},
   "outputs": [
    {
     "data": {
      "text/html": [
       "<div>\n",
       "<style scoped>\n",
       "    .dataframe tbody tr th:only-of-type {\n",
       "        vertical-align: middle;\n",
       "    }\n",
       "\n",
       "    .dataframe tbody tr th {\n",
       "        vertical-align: top;\n",
       "    }\n",
       "\n",
       "    .dataframe thead th {\n",
       "        text-align: right;\n",
       "    }\n",
       "</style>\n",
       "<table border=\"1\" class=\"dataframe\">\n",
       "  <thead>\n",
       "    <tr style=\"text-align: right;\">\n",
       "      <th></th>\n",
       "      <th>index</th>\n",
       "      <th>nombre</th>\n",
       "    </tr>\n",
       "  </thead>\n",
       "  <tbody>\n",
       "    <tr>\n",
       "      <th>0</th>\n",
       "      <td>['Action', 'FPS', 'Multiplayer', 'Shooter', 'C...</td>\n",
       "      <td>NaN</td>\n",
       "    </tr>\n",
       "    <tr>\n",
       "      <th>1</th>\n",
       "      <td>['Action', 'FPS', 'Multiplayer', 'Classic', 'S...</td>\n",
       "      <td>NaN</td>\n",
       "    </tr>\n",
       "    <tr>\n",
       "      <th>2</th>\n",
       "      <td>['FPS', 'World War II', 'Multiplayer', 'Action...</td>\n",
       "      <td>NaN</td>\n",
       "    </tr>\n",
       "    <tr>\n",
       "      <th>3</th>\n",
       "      <td>['Action', 'FPS', 'Multiplayer', 'Classic', 'S...</td>\n",
       "      <td>NaN</td>\n",
       "    </tr>\n",
       "    <tr>\n",
       "      <th>4</th>\n",
       "      <td>['FPS', 'Action', 'Sci-fi', 'Singleplayer', 'C...</td>\n",
       "      <td>NaN</td>\n",
       "    </tr>\n",
       "    <tr>\n",
       "      <th>...</th>\n",
       "      <td>...</td>\n",
       "      <td>...</td>\n",
       "    </tr>\n",
       "    <tr>\n",
       "      <th>6149</th>\n",
       "      <td>['Early Access', 'Strategy', 'RPG', 'Indie', '...</td>\n",
       "      <td>NaN</td>\n",
       "    </tr>\n",
       "    <tr>\n",
       "      <th>6150</th>\n",
       "      <td>['RPG', 'Indie', 'Adventure', 'Procedural Gene...</td>\n",
       "      <td>NaN</td>\n",
       "    </tr>\n",
       "    <tr>\n",
       "      <th>6151</th>\n",
       "      <td>['Indie', 'Adventure', 'Cute', 'Puzzle-Platfor...</td>\n",
       "      <td>NaN</td>\n",
       "    </tr>\n",
       "    <tr>\n",
       "      <th>6152</th>\n",
       "      <td>['Indie', 'Casual', 'Action', 'Simulation']</td>\n",
       "      <td>NaN</td>\n",
       "    </tr>\n",
       "    <tr>\n",
       "      <th>6153</th>\n",
       "      <td>['Casual', 'Simulation', 'Psychological Horror...</td>\n",
       "      <td>NaN</td>\n",
       "    </tr>\n",
       "  </tbody>\n",
       "</table>\n",
       "<p>6154 rows × 2 columns</p>\n",
       "</div>"
      ],
      "text/plain": [
       "                                                  index nombre\n",
       "0     ['Action', 'FPS', 'Multiplayer', 'Shooter', 'C...    NaN\n",
       "1     ['Action', 'FPS', 'Multiplayer', 'Classic', 'S...    NaN\n",
       "2     ['FPS', 'World War II', 'Multiplayer', 'Action...    NaN\n",
       "3     ['Action', 'FPS', 'Multiplayer', 'Classic', 'S...    NaN\n",
       "4     ['FPS', 'Action', 'Sci-fi', 'Singleplayer', 'C...    NaN\n",
       "...                                                 ...    ...\n",
       "6149  ['Early Access', 'Strategy', 'RPG', 'Indie', '...    NaN\n",
       "6150  ['RPG', 'Indie', 'Adventure', 'Procedural Gene...    NaN\n",
       "6151  ['Indie', 'Adventure', 'Cute', 'Puzzle-Platfor...    NaN\n",
       "6152        ['Indie', 'Casual', 'Action', 'Simulation']    NaN\n",
       "6153  ['Casual', 'Simulation', 'Psychological Horror...    NaN\n",
       "\n",
       "[6154 rows x 2 columns]"
      ]
     },
     "execution_count": 22,
     "metadata": {},
     "output_type": "execute_result"
    }
   ],
   "source": [
    "tabla_1"
   ]
  },
  {
   "cell_type": "code",
   "execution_count": 43,
   "metadata": {},
   "outputs": [],
   "source": [
    "def obtener_usuario(genero_especifico):\n",
    "    dataframe = df\n",
    "    df_genero_especifico = dataframe[dataframe['genres'].apply(lambda x: genero_especifico in x)]\n",
    "\n",
    "    df_agrupado = df_genero_especifico[['playtime_forever', 'user_id']].groupby(['user_id']).sum().reset_index()\n",
    "\n",
    "    # Encuentra el usuario con el mayor playtime_forever\n",
    "    usuario_mayor_playtime = df_agrupado.groupby(['user_id']).sum().sort_values('playtime_forever', ascending=False).index[0]\n",
    "\n",
    "    return usuario_mayor_playtime\n"
   ]
  },
  {
   "cell_type": "code",
   "execution_count": 44,
   "metadata": {},
   "outputs": [],
   "source": [
    "tabla_1['nombre']=tabla_1['index'].apply(obtener_usuario)"
   ]
  },
  {
   "cell_type": "code",
   "execution_count": 50,
   "metadata": {},
   "outputs": [],
   "source": [
    "tabla_1 = tabla_1.to_csv ('./Datasets/tabla1.csv', index=False)"
   ]
  },
  {
   "cell_type": "code",
   "execution_count": null,
   "metadata": {},
   "outputs": [],
   "source": [
    "def datalle(nombre):\n",
    "    \n",
    "    resultado = df[['playtime_forever','year']][df['user_id']== nombre ].groupby(['year']).sum(['playtime_forever']).to_dict()\n",
    "\n",
    "    return resultado"
   ]
  },
  {
   "cell_type": "code",
   "execution_count": null,
   "metadata": {},
   "outputs": [],
   "source": [
    "df[['playtime_forever','year']][df['user_id']== 'Sp3ctre' ].groupby(['year']).sum(['playtime_forever']).to_dict()\n"
   ]
  },
  {
   "cell_type": "code",
   "execution_count": null,
   "metadata": {},
   "outputs": [],
   "source": [
    "tabla_1['detalle']=tabla_1['user_id'].apply(datalle)"
   ]
  }
 ],
 "metadata": {
  "kernelspec": {
   "display_name": "Python 3",
   "language": "python",
   "name": "python3"
  },
  "language_info": {
   "codemirror_mode": {
    "name": "ipython",
    "version": 3
   },
   "file_extension": ".py",
   "mimetype": "text/x-python",
   "name": "python",
   "nbconvert_exporter": "python",
   "pygments_lexer": "ipython3",
   "version": "3.11.5"
  }
 },
 "nbformat": 4,
 "nbformat_minor": 2
}
