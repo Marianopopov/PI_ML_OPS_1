{
 "cells": [
  {
   "cell_type": "markdown",
   "metadata": {},
   "source": [
    "## Carga de data"
   ]
  },
  {
   "cell_type": "code",
   "execution_count": 23,
   "metadata": {},
   "outputs": [],
   "source": [
    "import pandas as pd\n",
    "import ast"
   ]
  },
  {
   "cell_type": "code",
   "execution_count": 19,
   "metadata": {},
   "outputs": [],
   "source": [
    "## Cargamos la data necesaria para solucionar este problema.\n",
    "steam_colums = ['id','genres','year']\n",
    "steam_games = pd.read_csv('./Datasets/steam_games_cleaned.csv.gz',compression='gzip', usecols = steam_colums)\n",
    "\n",
    "user_item_cols = ['item_id','user_id','playtime_forever']\n",
    "user_items = pd.read_csv('./Datasets/user_items_cleaned.csv.gz',compression='gzip', usecols = user_item_cols)\n",
    "\n",
    "\n",
    "## renombraremos la columna id por steam_id\n",
    "steam_games.rename(columns={'id':'item_id'}, inplace=True)\n"
   ]
  },
  {
   "cell_type": "code",
   "execution_count": 20,
   "metadata": {},
   "outputs": [
    {
     "data": {
      "text/html": [
       "<div>\n",
       "<style scoped>\n",
       "    .dataframe tbody tr th:only-of-type {\n",
       "        vertical-align: middle;\n",
       "    }\n",
       "\n",
       "    .dataframe tbody tr th {\n",
       "        vertical-align: top;\n",
       "    }\n",
       "\n",
       "    .dataframe thead th {\n",
       "        text-align: right;\n",
       "    }\n",
       "</style>\n",
       "<table border=\"1\" class=\"dataframe\">\n",
       "  <thead>\n",
       "    <tr style=\"text-align: right;\">\n",
       "      <th></th>\n",
       "      <th>user_id</th>\n",
       "      <th>item_id</th>\n",
       "      <th>playtime_forever</th>\n",
       "    </tr>\n",
       "  </thead>\n",
       "  <tbody>\n",
       "    <tr>\n",
       "      <th>0</th>\n",
       "      <td>76561197970982479</td>\n",
       "      <td>10.0</td>\n",
       "      <td>6.0</td>\n",
       "    </tr>\n",
       "    <tr>\n",
       "      <th>1</th>\n",
       "      <td>76561197970982479</td>\n",
       "      <td>20.0</td>\n",
       "      <td>0.0</td>\n",
       "    </tr>\n",
       "    <tr>\n",
       "      <th>2</th>\n",
       "      <td>76561197970982479</td>\n",
       "      <td>30.0</td>\n",
       "      <td>7.0</td>\n",
       "    </tr>\n",
       "    <tr>\n",
       "      <th>3</th>\n",
       "      <td>76561197970982479</td>\n",
       "      <td>40.0</td>\n",
       "      <td>0.0</td>\n",
       "    </tr>\n",
       "    <tr>\n",
       "      <th>4</th>\n",
       "      <td>76561197970982479</td>\n",
       "      <td>50.0</td>\n",
       "      <td>0.0</td>\n",
       "    </tr>\n",
       "    <tr>\n",
       "      <th>...</th>\n",
       "      <td>...</td>\n",
       "      <td>...</td>\n",
       "      <td>...</td>\n",
       "    </tr>\n",
       "    <tr>\n",
       "      <th>5170010</th>\n",
       "      <td>76561198329548331</td>\n",
       "      <td>373330.0</td>\n",
       "      <td>0.0</td>\n",
       "    </tr>\n",
       "    <tr>\n",
       "      <th>5170011</th>\n",
       "      <td>76561198329548331</td>\n",
       "      <td>388490.0</td>\n",
       "      <td>3.0</td>\n",
       "    </tr>\n",
       "    <tr>\n",
       "      <th>5170012</th>\n",
       "      <td>76561198329548331</td>\n",
       "      <td>521570.0</td>\n",
       "      <td>4.0</td>\n",
       "    </tr>\n",
       "    <tr>\n",
       "      <th>5170013</th>\n",
       "      <td>76561198329548331</td>\n",
       "      <td>519140.0</td>\n",
       "      <td>3.0</td>\n",
       "    </tr>\n",
       "    <tr>\n",
       "      <th>5170014</th>\n",
       "      <td>edward_tremethick</td>\n",
       "      <td>NaN</td>\n",
       "      <td>NaN</td>\n",
       "    </tr>\n",
       "  </tbody>\n",
       "</table>\n",
       "<p>5170015 rows × 3 columns</p>\n",
       "</div>"
      ],
      "text/plain": [
       "                   user_id   item_id  playtime_forever\n",
       "0        76561197970982479      10.0               6.0\n",
       "1        76561197970982479      20.0               0.0\n",
       "2        76561197970982479      30.0               7.0\n",
       "3        76561197970982479      40.0               0.0\n",
       "4        76561197970982479      50.0               0.0\n",
       "...                    ...       ...               ...\n",
       "5170010  76561198329548331  373330.0               0.0\n",
       "5170011  76561198329548331  388490.0               3.0\n",
       "5170012  76561198329548331  521570.0               4.0\n",
       "5170013  76561198329548331  519140.0               3.0\n",
       "5170014  edward_tremethick       NaN               NaN\n",
       "\n",
       "[5170015 rows x 3 columns]"
      ]
     },
     "execution_count": 20,
     "metadata": {},
     "output_type": "execute_result"
    }
   ],
   "source": [
    "user_items"
   ]
  },
  {
   "cell_type": "code",
   "execution_count": 21,
   "metadata": {},
   "outputs": [],
   "source": [
    "steam_users = steam_games.merge(user_items,\n",
    "                              on='item_id',\n",
    "                              how='inner')"
   ]
  },
  {
   "cell_type": "code",
   "execution_count": 22,
   "metadata": {},
   "outputs": [],
   "source": [
    "steam_users = steam_users[steam_users['playtime_forever'] > 0 ]"
   ]
  },
  {
   "cell_type": "code",
   "execution_count": 12,
   "metadata": {},
   "outputs": [],
   "source": [
    "#genres_unique =  steam_games['genres'].str.split(', ').explode().unique()"
   ]
  },
  {
   "cell_type": "code",
   "execution_count": 24,
   "metadata": {},
   "outputs": [],
   "source": [
    "steam_users['genres'] = steam_users['genres'].apply(ast.literal_eval)\n",
    "\n",
    "# Explode y contar los valores\n",
    "df_exploded = steam_users.explode('genres')\n",
    "genre_counts = df_exploded['genres'].value_counts()"
   ]
  },
  {
   "cell_type": "code",
   "execution_count": 25,
   "metadata": {},
   "outputs": [
    {
     "data": {
      "text/plain": [
       "336"
      ]
     },
     "execution_count": 25,
     "metadata": {},
     "output_type": "execute_result"
    }
   ],
   "source": [
    "len(genre_counts)"
   ]
  },
  {
   "cell_type": "code",
   "execution_count": 26,
   "metadata": {},
   "outputs": [
    {
     "data": {
      "text/plain": [
       "genres\n",
       "Action             2415072\n",
       "Singleplayer       2251032\n",
       "Adventure          1924454\n",
       "Multiplayer        1905496\n",
       "Co-op              1490324\n",
       "                    ...   \n",
       "Mystery Dungeon         28\n",
       "360 Video               14\n",
       "Feature Film             7\n",
       "Foreign                  5\n",
       "Hardware                 2\n",
       "Name: count, Length: 336, dtype: int64"
      ]
     },
     "execution_count": 26,
     "metadata": {},
     "output_type": "execute_result"
    }
   ],
   "source": [
    "genre_counts"
   ]
  },
  {
   "cell_type": "code",
   "execution_count": 27,
   "metadata": {},
   "outputs": [
    {
     "ename": "KeyError",
     "evalue": "\"None of [Index([nan, nan, nan, nan, nan, nan, nan, nan, nan, nan,\\n       ...\\n       nan, nan, nan, nan, nan, nan, nan, nan, nan, nan],\\n      dtype='float64', length=2823465)] are in the [columns]\"",
     "output_type": "error",
     "traceback": [
      "\u001b[1;31m---------------------------------------------------------------------------\u001b[0m",
      "\u001b[1;31mKeyError\u001b[0m                                  Traceback (most recent call last)",
      "\u001b[1;32mc:\\Users\\maria\\Desktop\\PI_ML_OPS_1\\PI_ML_OPS_1\\02_user_for_genres_v3.ipynb Cell 11\u001b[0m line \u001b[0;36m3\n\u001b[0;32m      <a href='vscode-notebook-cell:/c%3A/Users/maria/Desktop/PI_ML_OPS_1/PI_ML_OPS_1/02_user_for_genres_v3.ipynb#X12sZmlsZQ%3D%3D?line=0'>1</a>\u001b[0m genres \u001b[39m=\u001b[39m \u001b[39m'\u001b[39m\u001b[39mAction\u001b[39m\u001b[39m'\u001b[39m\n\u001b[1;32m----> <a href='vscode-notebook-cell:/c%3A/Users/maria/Desktop/PI_ML_OPS_1/PI_ML_OPS_1/02_user_for_genres_v3.ipynb#X12sZmlsZQ%3D%3D?line=2'>3</a>\u001b[0m user_max \u001b[39m=\u001b[39m steam_users[steam_users[\u001b[39m'\u001b[39;49m\u001b[39mgenres\u001b[39;49m\u001b[39m'\u001b[39;49m]\u001b[39m.\u001b[39;49mstr\u001b[39m.\u001b[39;49mcontains(genres)][[\u001b[39m'\u001b[39m\u001b[39muser_id\u001b[39m\u001b[39m'\u001b[39m,\u001b[39m'\u001b[39m\u001b[39mplaytime_forever\u001b[39m\u001b[39m'\u001b[39m]]\u001b[39m.\u001b[39mgroupby(\u001b[39m'\u001b[39m\u001b[39muser_id\u001b[39m\u001b[39m'\u001b[39m)\u001b[39m.\u001b[39msum()\u001b[39m.\u001b[39mnlargest(\u001b[39m1\u001b[39m,\u001b[39m'\u001b[39m\u001b[39mplaytime_forever\u001b[39m\u001b[39m'\u001b[39m)\u001b[39m.\u001b[39mindex\n",
      "File \u001b[1;32m~\\AppData\\Roaming\\Python\\Python311\\site-packages\\pandas\\core\\frame.py:3767\u001b[0m, in \u001b[0;36mDataFrame.__getitem__\u001b[1;34m(self, key)\u001b[0m\n\u001b[0;32m   3765\u001b[0m     \u001b[39mif\u001b[39;00m is_iterator(key):\n\u001b[0;32m   3766\u001b[0m         key \u001b[39m=\u001b[39m \u001b[39mlist\u001b[39m(key)\n\u001b[1;32m-> 3767\u001b[0m     indexer \u001b[39m=\u001b[39m \u001b[39mself\u001b[39;49m\u001b[39m.\u001b[39;49mcolumns\u001b[39m.\u001b[39;49m_get_indexer_strict(key, \u001b[39m\"\u001b[39;49m\u001b[39mcolumns\u001b[39;49m\u001b[39m\"\u001b[39;49m)[\u001b[39m1\u001b[39m]\n\u001b[0;32m   3769\u001b[0m \u001b[39m# take() does not accept boolean indexers\u001b[39;00m\n\u001b[0;32m   3770\u001b[0m \u001b[39mif\u001b[39;00m \u001b[39mgetattr\u001b[39m(indexer, \u001b[39m\"\u001b[39m\u001b[39mdtype\u001b[39m\u001b[39m\"\u001b[39m, \u001b[39mNone\u001b[39;00m) \u001b[39m==\u001b[39m \u001b[39mbool\u001b[39m:\n",
      "File \u001b[1;32m~\\AppData\\Roaming\\Python\\Python311\\site-packages\\pandas\\core\\indexes\\base.py:5876\u001b[0m, in \u001b[0;36mIndex._get_indexer_strict\u001b[1;34m(self, key, axis_name)\u001b[0m\n\u001b[0;32m   5873\u001b[0m \u001b[39melse\u001b[39;00m:\n\u001b[0;32m   5874\u001b[0m     keyarr, indexer, new_indexer \u001b[39m=\u001b[39m \u001b[39mself\u001b[39m\u001b[39m.\u001b[39m_reindex_non_unique(keyarr)\n\u001b[1;32m-> 5876\u001b[0m \u001b[39mself\u001b[39;49m\u001b[39m.\u001b[39;49m_raise_if_missing(keyarr, indexer, axis_name)\n\u001b[0;32m   5878\u001b[0m keyarr \u001b[39m=\u001b[39m \u001b[39mself\u001b[39m\u001b[39m.\u001b[39mtake(indexer)\n\u001b[0;32m   5879\u001b[0m \u001b[39mif\u001b[39;00m \u001b[39misinstance\u001b[39m(key, Index):\n\u001b[0;32m   5880\u001b[0m     \u001b[39m# GH 42790 - Preserve name from an Index\u001b[39;00m\n",
      "File \u001b[1;32m~\\AppData\\Roaming\\Python\\Python311\\site-packages\\pandas\\core\\indexes\\base.py:5935\u001b[0m, in \u001b[0;36mIndex._raise_if_missing\u001b[1;34m(self, key, indexer, axis_name)\u001b[0m\n\u001b[0;32m   5933\u001b[0m     \u001b[39mif\u001b[39;00m use_interval_msg:\n\u001b[0;32m   5934\u001b[0m         key \u001b[39m=\u001b[39m \u001b[39mlist\u001b[39m(key)\n\u001b[1;32m-> 5935\u001b[0m     \u001b[39mraise\u001b[39;00m \u001b[39mKeyError\u001b[39;00m(\u001b[39mf\u001b[39m\u001b[39m\"\u001b[39m\u001b[39mNone of [\u001b[39m\u001b[39m{\u001b[39;00mkey\u001b[39m}\u001b[39;00m\u001b[39m] are in the [\u001b[39m\u001b[39m{\u001b[39;00maxis_name\u001b[39m}\u001b[39;00m\u001b[39m]\u001b[39m\u001b[39m\"\u001b[39m)\n\u001b[0;32m   5937\u001b[0m not_found \u001b[39m=\u001b[39m \u001b[39mlist\u001b[39m(ensure_index(key)[missing_mask\u001b[39m.\u001b[39mnonzero()[\u001b[39m0\u001b[39m]]\u001b[39m.\u001b[39munique())\n\u001b[0;32m   5938\u001b[0m \u001b[39mraise\u001b[39;00m \u001b[39mKeyError\u001b[39;00m(\u001b[39mf\u001b[39m\u001b[39m\"\u001b[39m\u001b[39m{\u001b[39;00mnot_found\u001b[39m}\u001b[39;00m\u001b[39m not in index\u001b[39m\u001b[39m\"\u001b[39m)\n",
      "\u001b[1;31mKeyError\u001b[0m: \"None of [Index([nan, nan, nan, nan, nan, nan, nan, nan, nan, nan,\\n       ...\\n       nan, nan, nan, nan, nan, nan, nan, nan, nan, nan],\\n      dtype='float64', length=2823465)] are in the [columns]\""
     ]
    }
   ],
   "source": [
    "genres = 'Action'\n",
    "\n",
    "user_max = steam_users[steam_users['genres'].str.contains(genres)][['user_id','playtime_forever']].groupby('user_id').sum().nlargest(1,'playtime_forever').index"
   ]
  },
  {
   "cell_type": "code",
   "execution_count": null,
   "metadata": {},
   "outputs": [
    {
     "data": {
      "text/plain": [
       "array(['Sp3ctre'], dtype=object)"
      ]
     },
     "execution_count": 161,
     "metadata": {},
     "output_type": "execute_result"
    }
   ],
   "source": [
    "user_max"
   ]
  },
  {
   "cell_type": "code",
   "execution_count": 73,
   "metadata": {},
   "outputs": [],
   "source": [
    "play_to_years = steam_users[(steam_users['user_id'] == user_max)][['release_year','playtime_forever']].groupby('release_year').sum()"
   ]
  },
  {
   "cell_type": "code",
   "execution_count": 166,
   "metadata": {},
   "outputs": [],
   "source": [
    "play_to_years.to_dict()\n",
    "\n",
    "def user_max_time(genres):\n",
    "  try:\n",
    "    user_max = steam_users[steam_users['genres'].str.contains(genres)][['user_id','playtime_forever']].groupby('user_id').sum().nlargest(1,'playtime_forever').index[0]\n",
    "    print(genres)\n",
    "    return(user_max)\n",
    "  except IndexError:\n",
    "    return('Nadie')\n",
    "\n",
    "\n",
    "def max_time_for_year(user):\n",
    "  if user != 'Nadie':\n",
    "    return(steam_users[(steam_users['user_id'] == user)][['release_year','playtime_forever']].groupby('release_year').sum().to_dict())\n",
    "  "
   ]
  },
  {
   "cell_type": "code",
   "execution_count": null,
   "metadata": {},
   "outputs": [],
   "source": []
  },
  {
   "cell_type": "code",
   "execution_count": 202,
   "metadata": {},
   "outputs": [],
   "source": [
    "tabla_1 = pd.DataFrame(index=genres_unique,columns=['nombre'])"
   ]
  },
  {
   "cell_type": "code",
   "execution_count": 203,
   "metadata": {},
   "outputs": [],
   "source": [
    "tabla_1 = tabla_1.reset_index()"
   ]
  },
  {
   "cell_type": "code",
   "execution_count": 204,
   "metadata": {},
   "outputs": [
    {
     "data": {
      "text/html": [
       "<div>\n",
       "<style scoped>\n",
       "    .dataframe tbody tr th:only-of-type {\n",
       "        vertical-align: middle;\n",
       "    }\n",
       "\n",
       "    .dataframe tbody tr th {\n",
       "        vertical-align: top;\n",
       "    }\n",
       "\n",
       "    .dataframe thead th {\n",
       "        text-align: right;\n",
       "    }\n",
       "</style>\n",
       "<table border=\"1\" class=\"dataframe\">\n",
       "  <thead>\n",
       "    <tr style=\"text-align: right;\">\n",
       "      <th></th>\n",
       "      <th>index</th>\n",
       "      <th>nombre</th>\n",
       "    </tr>\n",
       "  </thead>\n",
       "  <tbody>\n",
       "    <tr>\n",
       "      <th>0</th>\n",
       "      <td>Strategy</td>\n",
       "      <td>NaN</td>\n",
       "    </tr>\n",
       "    <tr>\n",
       "      <th>1</th>\n",
       "      <td>Action</td>\n",
       "      <td>NaN</td>\n",
       "    </tr>\n",
       "    <tr>\n",
       "      <th>2</th>\n",
       "      <td>Indie</td>\n",
       "      <td>NaN</td>\n",
       "    </tr>\n",
       "    <tr>\n",
       "      <th>3</th>\n",
       "      <td>Casual</td>\n",
       "      <td>NaN</td>\n",
       "    </tr>\n",
       "    <tr>\n",
       "      <th>4</th>\n",
       "      <td>Simulation</td>\n",
       "      <td>NaN</td>\n",
       "    </tr>\n",
       "    <tr>\n",
       "      <th>...</th>\n",
       "      <td>...</td>\n",
       "      <td>...</td>\n",
       "    </tr>\n",
       "    <tr>\n",
       "      <th>334</th>\n",
       "      <td>Faith</td>\n",
       "      <td>NaN</td>\n",
       "    </tr>\n",
       "    <tr>\n",
       "      <th>335</th>\n",
       "      <td>Tutorial</td>\n",
       "      <td>NaN</td>\n",
       "    </tr>\n",
       "    <tr>\n",
       "      <th>336</th>\n",
       "      <td>Steam Machine</td>\n",
       "      <td>NaN</td>\n",
       "    </tr>\n",
       "    <tr>\n",
       "      <th>337</th>\n",
       "      <td>Bikes</td>\n",
       "      <td>NaN</td>\n",
       "    </tr>\n",
       "    <tr>\n",
       "      <th>338</th>\n",
       "      <td>Hardware</td>\n",
       "      <td>NaN</td>\n",
       "    </tr>\n",
       "  </tbody>\n",
       "</table>\n",
       "<p>339 rows × 2 columns</p>\n",
       "</div>"
      ],
      "text/plain": [
       "             index nombre\n",
       "0         Strategy    NaN\n",
       "1           Action    NaN\n",
       "2            Indie    NaN\n",
       "3           Casual    NaN\n",
       "4       Simulation    NaN\n",
       "..             ...    ...\n",
       "334          Faith    NaN\n",
       "335       Tutorial    NaN\n",
       "336  Steam Machine    NaN\n",
       "337          Bikes    NaN\n",
       "338       Hardware    NaN\n",
       "\n",
       "[339 rows x 2 columns]"
      ]
     },
     "execution_count": 204,
     "metadata": {},
     "output_type": "execute_result"
    }
   ],
   "source": [
    "tabla_1"
   ]
  },
  {
   "cell_type": "code",
   "execution_count": null,
   "metadata": {},
   "outputs": [],
   "source": [
    "\n",
    "tabla_1['nombre'] = tabla_1['index'].apply(user_max_time)\n"
   ]
  },
  {
   "cell_type": "code",
   "execution_count": 213,
   "metadata": {},
   "outputs": [],
   "source": [
    "tabla_1.to_csv('02_nombres__max.csv.gz')"
   ]
  },
  {
   "cell_type": "code",
   "execution_count": 220,
   "metadata": {},
   "outputs": [],
   "source": [
    "tabla_1['year'] = tabla_1['nombre'].apply(max_time_for_year)"
   ]
  },
  {
   "cell_type": "code",
   "execution_count": 223,
   "metadata": {},
   "outputs": [],
   "source": [
    "tabla_1[tabla_1['nombre']!='Nadie'].to_csv('02_endpoint_full.csv.gz')"
   ]
  },
  {
   "cell_type": "code",
   "execution_count": 225,
   "metadata": {},
   "outputs": [
    {
     "data": {
      "text/html": [
       "<div>\n",
       "<style scoped>\n",
       "    .dataframe tbody tr th:only-of-type {\n",
       "        vertical-align: middle;\n",
       "    }\n",
       "\n",
       "    .dataframe tbody tr th {\n",
       "        vertical-align: top;\n",
       "    }\n",
       "\n",
       "    .dataframe thead th {\n",
       "        text-align: right;\n",
       "    }\n",
       "</style>\n",
       "<table border=\"1\" class=\"dataframe\">\n",
       "  <thead>\n",
       "    <tr style=\"text-align: right;\">\n",
       "      <th></th>\n",
       "      <th>index</th>\n",
       "      <th>nombre</th>\n",
       "      <th>year</th>\n",
       "    </tr>\n",
       "  </thead>\n",
       "  <tbody>\n",
       "    <tr>\n",
       "      <th>0</th>\n",
       "      <td>Strategy</td>\n",
       "      <td>shinomegami</td>\n",
       "      <td>{'playtime_forever': {1988: 2.27, 1993: 513.71...</td>\n",
       "    </tr>\n",
       "    <tr>\n",
       "      <th>1</th>\n",
       "      <td>Action</td>\n",
       "      <td>Sp3ctre</td>\n",
       "      <td>{'playtime_forever': {1995: 3.62, 1997: 4.71, ...</td>\n",
       "    </tr>\n",
       "    <tr>\n",
       "      <th>2</th>\n",
       "      <td>Indie</td>\n",
       "      <td>REBAS_AS_F-T</td>\n",
       "      <td>{'playtime_forever': {1998: 0.02, 1999: 3.75, ...</td>\n",
       "    </tr>\n",
       "    <tr>\n",
       "      <th>3</th>\n",
       "      <td>Casual</td>\n",
       "      <td>REBAS_AS_F-T</td>\n",
       "      <td>{'playtime_forever': {1998: 0.02, 1999: 3.75, ...</td>\n",
       "    </tr>\n",
       "    <tr>\n",
       "      <th>4</th>\n",
       "      <td>Simulation</td>\n",
       "      <td>shinomegami</td>\n",
       "      <td>{'playtime_forever': {1988: 2.27, 1993: 513.71...</td>\n",
       "    </tr>\n",
       "    <tr>\n",
       "      <th>...</th>\n",
       "      <td>...</td>\n",
       "      <td>...</td>\n",
       "      <td>...</td>\n",
       "    </tr>\n",
       "    <tr>\n",
       "      <th>334</th>\n",
       "      <td>Faith</td>\n",
       "      <td>Nadie</td>\n",
       "      <td>None</td>\n",
       "    </tr>\n",
       "    <tr>\n",
       "      <th>335</th>\n",
       "      <td>Tutorial</td>\n",
       "      <td>Nadie</td>\n",
       "      <td>None</td>\n",
       "    </tr>\n",
       "    <tr>\n",
       "      <th>336</th>\n",
       "      <td>Steam Machine</td>\n",
       "      <td>REBAS_AS_F-T</td>\n",
       "      <td>{'playtime_forever': {1998: 0.02, 1999: 3.75, ...</td>\n",
       "    </tr>\n",
       "    <tr>\n",
       "      <th>337</th>\n",
       "      <td>Bikes</td>\n",
       "      <td>Nadie</td>\n",
       "      <td>None</td>\n",
       "    </tr>\n",
       "    <tr>\n",
       "      <th>338</th>\n",
       "      <td>Hardware</td>\n",
       "      <td>76561198075908315</td>\n",
       "      <td>{'playtime_forever': {2003: 7.47, 2004: 20.35,...</td>\n",
       "    </tr>\n",
       "  </tbody>\n",
       "</table>\n",
       "<p>339 rows × 3 columns</p>\n",
       "</div>"
      ],
      "text/plain": [
       "             index             nombre  \\\n",
       "0         Strategy        shinomegami   \n",
       "1           Action            Sp3ctre   \n",
       "2            Indie       REBAS_AS_F-T   \n",
       "3           Casual       REBAS_AS_F-T   \n",
       "4       Simulation        shinomegami   \n",
       "..             ...                ...   \n",
       "334          Faith              Nadie   \n",
       "335       Tutorial              Nadie   \n",
       "336  Steam Machine       REBAS_AS_F-T   \n",
       "337          Bikes              Nadie   \n",
       "338       Hardware  76561198075908315   \n",
       "\n",
       "                                                  year  \n",
       "0    {'playtime_forever': {1988: 2.27, 1993: 513.71...  \n",
       "1    {'playtime_forever': {1995: 3.62, 1997: 4.71, ...  \n",
       "2    {'playtime_forever': {1998: 0.02, 1999: 3.75, ...  \n",
       "3    {'playtime_forever': {1998: 0.02, 1999: 3.75, ...  \n",
       "4    {'playtime_forever': {1988: 2.27, 1993: 513.71...  \n",
       "..                                                 ...  \n",
       "334                                               None  \n",
       "335                                               None  \n",
       "336  {'playtime_forever': {1998: 0.02, 1999: 3.75, ...  \n",
       "337                                               None  \n",
       "338  {'playtime_forever': {2003: 7.47, 2004: 20.35,...  \n",
       "\n",
       "[339 rows x 3 columns]"
      ]
     },
     "execution_count": 225,
     "metadata": {},
     "output_type": "execute_result"
    }
   ],
   "source": [
    "tabla_1"
   ]
  },
  {
   "cell_type": "code",
   "execution_count": 269,
   "metadata": {},
   "outputs": [],
   "source": [
    "import ast\n",
    "def endpoint6(genres):\n",
    "  \n",
    "  consulta_final = pd.read_csv('02_endpoint_full.csv.gz',index_col=['index'])\n",
    "    \n",
    "  user_max = consulta_final.loc['Action'].nombre\n",
    "  \n",
    "  diccionario = ast.literal_eval(consulta_final.loc['Action'].year)\n",
    "\n",
    "  diccionario['Horas_Jugadas']  = diccionario.pop('playtime_forever')\n",
    "\n",
    "  return(f\"Usuario con más horas jugadas para Género {genres} : {user_max},\\n Horas jugadas:{[str(diccionario)]}\")"
   ]
  },
  {
   "cell_type": "code",
   "execution_count": 270,
   "metadata": {},
   "outputs": [
    {
     "data": {
      "text/plain": [
       "'Usuario con más horas jugadas para Género Action : Sp3ctre,\\n Horas jugadas:[\"{\\'Horas_Jugadas\\': {1995: 3.62, 1997: 4.71, 1999: 10.5, 2000: 1177.4, 2001: 4.17, 2002: 5.890000000000001, 2003: 129.06, 2004: 2134.04, 2005: 355.65, 2006: 1536.3999999999999, 2007: 1879.91, 2008: 170.28, 2009: 1818.46, 2010: 1385.72, 2011: 2591.25, 2012: 6404.280000000001, 2013: 3452.12, 2014: 2285.46, 2015: 8579.77, 2016: 778.46, 2017: 722.12}}\"]'"
      ]
     },
     "execution_count": 270,
     "metadata": {},
     "output_type": "execute_result"
    }
   ],
   "source": [
    "endpoint6('Action')"
   ]
  }
 ],
 "metadata": {
  "kernelspec": {
   "display_name": "Python 3",
   "language": "python",
   "name": "python3"
  },
  "language_info": {
   "codemirror_mode": {
    "name": "ipython",
    "version": 3
   },
   "file_extension": ".py",
   "mimetype": "text/x-python",
   "name": "python",
   "nbconvert_exporter": "python",
   "pygments_lexer": "ipython3",
   "version": "3.11.5"
  }
 },
 "nbformat": 4,
 "nbformat_minor": 2
}
