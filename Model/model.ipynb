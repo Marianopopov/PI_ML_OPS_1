{
 "cells": [
  {
   "cell_type": "code",
   "execution_count": 85,
   "metadata": {},
   "outputs": [],
   "source": [
    "import pandas as pd\n",
    "from sklearn.metrics.pairwise import cosine_similarity"
   ]
  },
  {
   "cell_type": "code",
   "execution_count": 120,
   "metadata": {},
   "outputs": [],
   "source": [
    "steam = pd.read_csv ('../Datasets/data_Api/function3.csv', usecols=['user_id','item_id','sentiment_analysis','recommend','app_name'])"
   ]
  },
  {
   "cell_type": "code",
   "execution_count": 121,
   "metadata": {},
   "outputs": [
    {
     "name": "stdout",
     "output_type": "stream",
     "text": [
      "Juegos recomendados similares al juego con ID 80:\n",
      "1. Juego ID: 40970, Name: Stronghold Crusader HD\n",
      "2. Juego ID: 40970, Name: Stronghold Crusader HD\n",
      "3. Juego ID: 40970, Name: Stronghold Crusader HD\n",
      "4. Juego ID: 40970, Name: Stronghold Crusader HD\n",
      "5. Juego ID: 40970, Name: Stronghold Crusader HD\n",
      "6. Juego ID: 232890, Name: Stronghold Crusader 2\n",
      "7. Juego ID: 232890, Name: Stronghold Crusader 2\n",
      "8. Juego ID: 232890, Name: Stronghold Crusader 2\n",
      "9. Juego ID: 232890, Name: Stronghold Crusader 2\n",
      "10. Juego ID: 209270, Name: Hero Academy\n",
      "11. Juego ID: 209270, Name: Hero Academy\n",
      "12. Juego ID: 209270, Name: Hero Academy\n",
      "13. Juego ID: 330100, Name: BossConstructor\n",
      "14. Juego ID: 342560, Name: Airships: Conquer the Skies\n"
     ]
    }
   ],
   "source": [
    "df = steam\n",
    "def recomendacion_juego(df, input_item_id, num_recommendations=5):\n",
    "    # Filtrar el DataFrame para obtener solo las filas relacionadas con el juego de entrada\n",
    "    input_item = df[df['item_id'] == input_item_id]\n",
    "\n",
    "    if input_item.empty:\n",
    "        return \"El ID de producto no se encuentra en el conjunto de datos.\"\n",
    "\n",
    "    # Extraer el usuario y sus recomendaciones para ese juego\n",
    "    user_item_matrix = df.pivot_table(index='user_id', columns='item_id', values='recommend', fill_value=0)\n",
    "\n",
    "    # Calcular la similitud coseno entre el juego de entrada y todos los demás juegos\n",
    "    similarity_scores = cosine_similarity(user_item_matrix.T)\n",
    "\n",
    "    # Obtener las puntuaciones de similitud para el juego de entrada\n",
    "    input_item_scores = similarity_scores[input_item_id]\n",
    "\n",
    "    # Obtener los índices de los juegos más similares (excluyendo el juego de entrada)\n",
    "    similar_items_indices = input_item_scores.argsort()[:-1][-num_recommendations:]\n",
    "\n",
    "    # Obtener los IDs y nombres de los juegos más similares\n",
    "    similar_items = user_item_matrix.columns[similar_items_indices]\n",
    "\n",
    "    # Obtener nombres de juegos correspondientes a los IDs\n",
    "    game_names_df = df[df['item_id'].isin(similar_items)][['item_id', 'app_name']]\n",
    "\n",
    "# Fusionar los DataFrames para obtener nombres correspondientes a los IDs\n",
    "    merged_df = pd.merge(pd.DataFrame(similar_items, columns=['item_id']), game_names_df, on='item_id')\n",
    "\n",
    "# Imprimir las recomendaciones de juegos con saltos de línea y números de índice\n",
    "    print(f\"Juegos recomendados similares al juego con ID {input_item_id}:\")\n",
    "\n",
    "    for idx, (item_id, game_name) in enumerate(zip(merged_df['item_id'], merged_df['app_name']), start=1):\n",
    "        print(f\"{idx}. Juego ID: {item_id}, Name: {game_name}\")\n",
    "        \n",
    "\n",
    "# Ejemplo de uso:\n",
    "input_item_id = 80\n",
    "recomendacion_juego(df, input_item_id)"
   ]
  },
  {
   "cell_type": "code",
   "execution_count": 43,
   "metadata": {},
   "outputs": [
    {
     "data": {
      "text/html": [
       "<div>\n",
       "<style scoped>\n",
       "    .dataframe tbody tr th:only-of-type {\n",
       "        vertical-align: middle;\n",
       "    }\n",
       "\n",
       "    .dataframe tbody tr th {\n",
       "        vertical-align: top;\n",
       "    }\n",
       "\n",
       "    .dataframe thead th {\n",
       "        text-align: right;\n",
       "    }\n",
       "</style>\n",
       "<table border=\"1\" class=\"dataframe\">\n",
       "  <thead>\n",
       "    <tr style=\"text-align: right;\">\n",
       "      <th></th>\n",
       "      <th>app_name</th>\n",
       "      <th>user_id</th>\n",
       "      <th>item_id</th>\n",
       "      <th>recommend</th>\n",
       "      <th>sentiment_analysis</th>\n",
       "    </tr>\n",
       "  </thead>\n",
       "  <tbody>\n",
       "    <tr>\n",
       "      <th>27777</th>\n",
       "      <td>Total War™: ROME II - Emperor Edition</td>\n",
       "      <td>76561198057086148</td>\n",
       "      <td>214950</td>\n",
       "      <td>1</td>\n",
       "      <td>1</td>\n",
       "    </tr>\n",
       "  </tbody>\n",
       "</table>\n",
       "</div>"
      ],
      "text/plain": [
       "                                    app_name            user_id  item_id   \n",
       "27777  Total War™: ROME II - Emperor Edition  76561198057086148   214950  \\\n",
       "\n",
       "       recommend  sentiment_analysis  \n",
       "27777          1                   1  "
      ]
     },
     "execution_count": 43,
     "metadata": {},
     "output_type": "execute_result"
    }
   ],
   "source": [
    "steam[steam['item_id'] == 214950]"
   ]
  },
  {
   "cell_type": "markdown",
   "metadata": {},
   "source": [
    "Si es un sistema de recomendación user-item:\n",
    "\n",
    "def recomendacion_usuario( id de usuario ): Ingresando el id de un usuario, deberíamos recibir una lista con 5 juegos recomendados para dicho usuario."
   ]
  },
  {
   "cell_type": "code",
   "execution_count": 123,
   "metadata": {},
   "outputs": [
    {
     "name": "stdout",
     "output_type": "stream",
     "text": [
      "Juegos recomendados para el usuario con ID EizanAratoFujimaki : [('-Ultrix', 'Half-Life'), ('76561198020928326', 'Half-Life'), ('76561198125270928', 'Half-Life'), ('coolman1342', 'Half-Life'), ('h00py', 'Half-Life')]\n"
     ]
    }
   ],
   "source": [
    "import pandas as pd\n",
    "from surprise import Dataset, Reader\n",
    "from surprise.model_selection import train_test_split\n",
    "from surprise import KNNBasic\n",
    "\n",
    "# Crear un objeto Reader\n",
    "reader = Reader(rating_scale=(0, 1))\n",
    "\n",
    "# Cargar el DataFrame en el formato correcto para Surprise\n",
    "data = Dataset.load_from_df(df[['user_id', 'item_id', 'recommend']], reader)\n",
    "\n",
    "# Dividir el conjunto de datos en entrenamiento y prueba\n",
    "trainset, testset = train_test_split(data, test_size=0.2, random_state=42)\n",
    "\n",
    "# Configurar el algoritmo de filtrado colaborativo basado en usuarios\n",
    "sim_options = {\n",
    "    'name': 'cosine',\n",
    "    'user_based': True,\n",
    "}\n",
    "algo = KNNBasic(sim_options=sim_options)\n",
    "\n",
    "# Entrenar el modelo\n",
    "algo.fit(trainset)\n",
    "\n",
    "# Obtener las recomendaciones para el usuario de entrada\n",
    "user_id = 'EizanAratoFujimaki'\n",
    "user_items = df[df['user_id'] == user_id][['item_id', 'recommend']].values.tolist()\n",
    "\n",
    "# Predecir las recomendaciones para el usuario\n",
    "predictions = [algo.predict(user_id, item_id) for item_id, _ in user_items]\n",
    "\n",
    "# Filtrar las recomendaciones con una puntuación alta\n",
    "filtered_recommendations = [(prediction.iid, prediction.est) for prediction in predictions if prediction.est > 0.5]\n",
    "\n",
    "# Ordenar las recomendaciones por puntuación descendente\n",
    "sorted_recommendations = sorted(filtered_recommendations, key=lambda x: x[1], reverse=True)\n",
    "\n",
    "print(\"Juegos recomendados para el usuario con ID\", user_id, \":\", sorted_recommendations[:num_recommendations])\n",
    "\n"
   ]
  }
 ],
 "metadata": {
  "kernelspec": {
   "display_name": "Python 3",
   "language": "python",
   "name": "python3"
  },
  "language_info": {
   "codemirror_mode": {
    "name": "ipython",
    "version": 3
   },
   "file_extension": ".py",
   "mimetype": "text/x-python",
   "name": "python",
   "nbconvert_exporter": "python",
   "pygments_lexer": "ipython3",
   "version": "3.11.5"
  }
 },
 "nbformat": 4,
 "nbformat_minor": 2
}
